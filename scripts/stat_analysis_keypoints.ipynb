{
 "cells": [
  {
   "cell_type": "code",
   "execution_count": 1,
   "metadata": {},
   "outputs": [
    {
     "name": "stdout",
     "output_type": "stream",
     "text": [
      "['/tank/tgn252/metadata_annotations/scripts', '/tank/tgn252/anaconda3/envs/metadata_stats/lib/python39.zip', '/tank/tgn252/anaconda3/envs/metadata_stats/lib/python3.9', '/tank/tgn252/anaconda3/envs/metadata_stats/lib/python3.9/lib-dynload', '', '/tank/tgn252/.local/lib/python3.9/site-packages', '/tank/tgn252/anaconda3/envs/metadata_stats/lib/python3.9/site-packages', '/tank/tgn252/metadata_annotations/src']\n"
     ]
    }
   ],
   "source": [
    "import sys\n",
    "import os\n",
    "import glob\n",
    "import pandas as pd\n",
    "import gensim.downloader as api\n",
    "import numpy as np\n",
    "import importlib\n",
    "import matplotlib.pyplot as plt\n",
    "from sklearn.preprocessing import StandardScaler\n",
    "from sklearn.cross_decomposition import CCA\n",
    "from sklearn.model_selection import KFold\n",
    "from sklearn.model_selection import train_test_split\n",
    "import caption_to_embedding\n",
    "from caption_to_embedding import transform_captions\n",
    "from load_hdf5 import load_keypoints_from_hdf5\n",
    "\n",
    "\n",
    "print(sys.path)\n",
    "input_map = \"/tank/tgn252/metadata_annotations/result\"\n",
    "video_names = os.listdir(input_map)"
   ]
  },
  {
   "cell_type": "code",
   "execution_count": 2,
   "metadata": {},
   "outputs": [],
   "source": [
    "def get_dirs_with_subdir(dirs, subdir_name):\n",
    "    \"\"\"\n",
    "    Returns a dictionary where the keys are directory names and the values are True if the directory contains a subdirectory with the given name, and False otherwise.\n",
    "\n",
    "    Args:\n",
    "        dirs (list): List of directory paths.\n",
    "        subdir_name (str): Name of the subdirectory to check for.\n",
    "\n",
    "    Returns:\n",
    "        dict: Dictionary where the keys are directory names and the values are True if the directory contains a subdirectory with the given name, and False otherwise.\n",
    "    \"\"\"\n",
    "    dirs_with_subdir = {}\n",
    "    for d in dirs:\n",
    "        subdirs = os.listdir(d)\n",
    "        dirs_with_subdir[d] = subdir_name in subdirs\n",
    "    return dirs_with_subdir"
   ]
  },
  {
   "cell_type": "code",
   "execution_count": 8,
   "metadata": {},
   "outputs": [
    {
     "name": "stdout",
     "output_type": "stream",
     "text": [
      "970\n",
      "1137\n",
      "['/tank/tgn252/metadata_annotations/result/R_S_yt--jzScB82vKI_212.mp4', '/tank/tgn252/metadata_annotations/result/R_S_wc-hmW1OnCPF_xn_37.mp4', '/tank/tgn252/metadata_annotations/result/R_S_yt-r5kRl-2lVxc_2.mp4', '/tank/tgn252/metadata_annotations/result/S_yt-3V8US8ZD3NU_229.mp4', '/tank/tgn252/metadata_annotations/result/S_yt-tMP5WhHMtWE_55.mp4', '/tank/tgn252/metadata_annotations/result/R_S_yt-y3tyx6cZjmA_412.mp4', '/tank/tgn252/metadata_annotations/result/S_production_ID_5102663.mp4', '/tank/tgn252/metadata_annotations/result/S_yt-oPeZEUtqKNM_27.mp4', '/tank/tgn252/metadata_annotations/result/R_S_yt-STL3ejY9u_Q_73.mp4', '/tank/tgn252/metadata_annotations/result/R_S_wc-3IayTPy_A3nF_17.mp4', '/tank/tgn252/metadata_annotations/result/R_S_3dzza09VbXY_235.mp4', '/tank/tgn252/metadata_annotations/result/S_ILSVRC2015_train_00042002.mp4', '/tank/tgn252/metadata_annotations/result/R_S_yt-lCb_efvJcdE_5.mp4', '/tank/tgn252/metadata_annotations/result/S_yt-un00Oks5uVc_7.mp4', '/tank/tgn252/metadata_annotations/result/R_S_P006_C002_UHD_SDR_2K_AVC.mp4', '/tank/tgn252/metadata_annotations/result/S_pexels-roman-odintsov-8232443.mp4', '/tank/tgn252/metadata_annotations/result/S_yt-gDZnJCR2uXI_18.mp4', '/tank/tgn252/metadata_annotations/result/S_yt-Uih643A1YtA_110.mp4', '/tank/tgn252/metadata_annotations/result/R_S_yt-kRR0CluqaX4_130.mp4', '/tank/tgn252/metadata_annotations/result/R_S_EFR8AteY59I_15.mp4', '/tank/tgn252/metadata_annotations/result/R_S_yt-wnQFgNEnHUI_109.mp4', '/tank/tgn252/metadata_annotations/result/R_S_b8-2.mp4', '/tank/tgn252/metadata_annotations/result/S_yt-Z_irN6cNiD4_148.mp4', '/tank/tgn252/metadata_annotations/result/S_yt-VjTiMtjdjTw_103.mp4', '/tank/tgn252/metadata_annotations/result/S_bing-www_nytimes_com_video_dining_1247468118505_grilled-chicken-breasts-with-herb-butter_html_132.mp4', '/tank/tgn252/metadata_annotations/result/S_yt-Lbv4qHp0RO0_14.mp4', '/tank/tgn252/metadata_annotations/result/S_yt-6DJulOrg2-8_122.mp4', '/tank/tgn252/metadata_annotations/result/R_S_ILSVRC2015_train_00743002.mp4', '/tank/tgn252/metadata_annotations/result/R_S_yt-H2ce6U0SbVA_542.mp4', '/tank/tgn252/metadata_annotations/result/S_yt-zRkzk1Y1eoU_50.mp4', '/tank/tgn252/metadata_annotations/result/R_S_ILSVRC2015_train_00451000.mp4', '/tank/tgn252/metadata_annotations/result/R_S_yt-FoO02U39gy4_398.mp4', '/tank/tgn252/metadata_annotations/result/R_S_yt-aiDGx4AN8J0_9.mp4', '/tank/tgn252/metadata_annotations/result/S_yt-VTNBCfQxnsk_59.mp4', '/tank/tgn252/metadata_annotations/result/S_yt-Ozx_f0a0ZDI_32.mp4', '/tank/tgn252/metadata_annotations/result/R_S_yt-8EiMToiiXYs_55.mp4', '/tank/tgn252/metadata_annotations/result/R_S_pexels-c-technical-5771610.mp4', '/tank/tgn252/metadata_annotations/result/S_yt-Xegmd8whqBs_230.mp4', '/tank/tgn252/metadata_annotations/result/R_S_yt-9pYW_TqVpU4_43.mp4', '/tank/tgn252/metadata_annotations/result/R_S_yt-wrfAMDCg93Y_8.mp4', '/tank/tgn252/metadata_annotations/result/S_yt-kRR0CluqaX4_130.mp4', '/tank/tgn252/metadata_annotations/result/R_S_yt-qsyDLtXcyHc_8.mp4', '/tank/tgn252/metadata_annotations/result/R_S_comp_DB_D001_C001_PSNK_v06_SDR_PS_20180824_SDR_2K_AVC.mp4', '/tank/tgn252/metadata_annotations/result/S_yt-Q5Mfl5NdT7g_3.mp4', '/tank/tgn252/metadata_annotations/result/R_S_ILSVRC2015_train_00692001.mp4', '/tank/tgn252/metadata_annotations/result/S_comp_A007_C017_01156B_v02_SDR_PS_20180925_SDR_2K_AVC.mp4', '/tank/tgn252/metadata_annotations/result/R_S_yt-JWedZ-zeqgQ_52.mp4', '/tank/tgn252/metadata_annotations/result/R_S_yt-UmLeGNcqouI_718.mp4', '/tank/tgn252/metadata_annotations/result/S_wc-TAGpcap1KdAS_212.mp4', '/tank/tgn252/metadata_annotations/result/S_yt-ZTAaH5XbtfE_3.mp4', '/tank/tgn252/metadata_annotations/result/S_yt-TvU-aYjNa2c_21.mp4', '/tank/tgn252/metadata_annotations/result/S_ILSVRC2015_train_00415005.mp4', '/tank/tgn252/metadata_annotations/result/S_yt-bTcbsBET7gc_270.mp4', '/tank/tgn252/metadata_annotations/result/R_S_yt-JVhfcpV7OaY_71.mp4', '/tank/tgn252/metadata_annotations/result/S_yt-2i53vKte7SA_117.mp4', '/tank/tgn252/metadata_annotations/result/S_yt-o0YqkYEeszM_7.mp4', '/tank/tgn252/metadata_annotations/result/S_yt-xTxDfoAAFZc_6.mp4', '/tank/tgn252/metadata_annotations/result/R_S_ILSVRC2015_train_00704000.mp4', '/tank/tgn252/metadata_annotations/result/R_S_yt-HoRtvVuuvOs_5.mp4', '/tank/tgn252/metadata_annotations/result/R_S__6qAy77ODUI_175.mp4', '/tank/tgn252/metadata_annotations/result/S_yt-ZfDtalvUK5k_36.mp4', '/tank/tgn252/metadata_annotations/result/S_comp_N003_C006_PS_v01_SDR_PS_20180925_SDR_2K_AVC.mp4', '/tank/tgn252/metadata_annotations/result/S_yt-31yLemkW42Q_111.mp4', '/tank/tgn252/metadata_annotations/result/S_yt-1ruRqcfBMw0_21.mp4', '/tank/tgn252/metadata_annotations/result/S_yt-ebzrQh5ErI4_3.mp4', '/tank/tgn252/metadata_annotations/result/S_yt-sTBOjPxix5c_1072.mp4', '/tank/tgn252/metadata_annotations/result/S_yt-WrwPgZYBXlA_34.mp4', '/tank/tgn252/metadata_annotations/result/R_S_ILSVRC2015_train_00595000.mp4', '/tank/tgn252/metadata_annotations/result/S_yt-AiXq1oDrEXI_123.mp4', '/tank/tgn252/metadata_annotations/result/S_pexels-marcus-aurelius-6785014.mp4', '/tank/tgn252/metadata_annotations/result/S_yt-M5qZo3CUXYE_27.mp4', '/tank/tgn252/metadata_annotations/result/S_ILSVRC2015_train_00743006.mp4', '/tank/tgn252/metadata_annotations/result/R_S_yt-Gam0NeyyG8w_22.mp4', '/tank/tgn252/metadata_annotations/result/R_S_yt-ycQy_fHCK-U_8.mp4', '/tank/tgn252/metadata_annotations/result/S_yt-HMAa2QbfFPI_216.mp4', '/tank/tgn252/metadata_annotations/result/R_S_yt-yPl8LcgSMjo_32.mp4', '/tank/tgn252/metadata_annotations/result/S_yt-gC3my54_ChQ_58.mp4', '/tank/tgn252/metadata_annotations/result/R_S_yt-AKnqtBjARlM_118.mp4', '/tank/tgn252/metadata_annotations/result/S_ILSVRC2015_train_00661004.mp4', '/tank/tgn252/metadata_annotations/result/R_S_yt-pZRvYLT6SmU_40.mp4', '/tank/tgn252/metadata_annotations/result/R_S_yt-5ws2gxbcjs4_381.mp4', '/tank/tgn252/metadata_annotations/result/R_S_yt-MXCxHM_Ms8A_15.mp4', '/tank/tgn252/metadata_annotations/result/S_production_ID_4325585.mp4', '/tank/tgn252/metadata_annotations/result/R_S_ILSVRC2015_train_00515000.mp4', '/tank/tgn252/metadata_annotations/result/R_S_yt-_xfncCRYpII_32.mp4', '/tank/tgn252/metadata_annotations/result/R_S_b6-4.mp4', '/tank/tgn252/metadata_annotations/result/S_yt-cu4AVz6o2eg_24.mp4', '/tank/tgn252/metadata_annotations/result/R_S_yt-UzWRbs9Syf4_7.mp4', '/tank/tgn252/metadata_annotations/result/S_yt-0EhQYCX_G6E_8.mp4', '/tank/tgn252/metadata_annotations/result/S_production_ID_4584682.mp4', '/tank/tgn252/metadata_annotations/result/R_S_yt-F1vQ5nZWhDg_21.mp4', '/tank/tgn252/metadata_annotations/result/R_S_wc-eJe3wXMgTLRV_20.mp4', '/tank/tgn252/metadata_annotations/result/R_S_ILSVRC2015_train_00364000.mp4', '/tank/tgn252/metadata_annotations/result/R_S_yt-074ygGXNoQ8_64.mp4', '/tank/tgn252/metadata_annotations/result/S_yt-5ws2gxbcjs4_381.mp4', '/tank/tgn252/metadata_annotations/result/S_yt-Y7-umyL036c_507.mp4', '/tank/tgn252/metadata_annotations/result/S_yt-aSEKRE_FNaI_62.mp4', '/tank/tgn252/metadata_annotations/result/R_S_comp_HK_B005_C011_PSNK_v16_SDR_PS_20180914_SDR_2K_AVC.mp4', '/tank/tgn252/metadata_annotations/result/S_yt-738MRS0yI6g_177.mp4', '/tank/tgn252/metadata_annotations/result/S_yt-AKnqtBjARlM_118.mp4', '/tank/tgn252/metadata_annotations/result/S_pexels-mikhail-nilov-8410088.mp4', '/tank/tgn252/metadata_annotations/result/R_S_pexels-cottonbro-9499408.mp4', '/tank/tgn252/metadata_annotations/result/S_PA_A002_C009_SDR_20190730_ALT01_SDR_2K_AVC.mp4', '/tank/tgn252/metadata_annotations/result/S_ILSVRC2015_train_00465000.mp4', '/tank/tgn252/metadata_annotations/result/R_S_ILSVRC2015_train_00278004.mp4', '/tank/tgn252/metadata_annotations/result/S_Pz_NXxhQCJc_70.mp4', '/tank/tgn252/metadata_annotations/result/R_S_I005_C008_CROP_SDR_2K_AVC.mp4', '/tank/tgn252/metadata_annotations/result/S_yt-bQRBtP9zkms_111.mp4', '/tank/tgn252/metadata_annotations/result/S_yt-NqZHX-eOVUA_35.mp4', '/tank/tgn252/metadata_annotations/result/R_S_yt-8wyJ7zyOo8g_9.mp4', '/tank/tgn252/metadata_annotations/result/R_S_yt-Ub5Xx5BqIOk_74.mp4', '/tank/tgn252/metadata_annotations/result/R_S_yt-z68VLDDCFdw_93.mp4', '/tank/tgn252/metadata_annotations/result/R_S_pexels-kindel-media-8165572.mp4', '/tank/tgn252/metadata_annotations/result/R_S_yt-e_eOzV7qMZo_374.mp4', '/tank/tgn252/metadata_annotations/result/R_S_yt-AiXq1oDrEXI_123.mp4', '/tank/tgn252/metadata_annotations/result/R_S_pexels-rodnae-productions-5993671.mp4', '/tank/tgn252/metadata_annotations/result/R_S_yt-35i8UeYXjGw_47.mp4', '/tank/tgn252/metadata_annotations/result/R_S_yt-qYuLW5vSotM_160.mp4', '/tank/tgn252/metadata_annotations/result/S_yt-tNCrkObhB6c_17.mp4', '/tank/tgn252/metadata_annotations/result/S_ILSVRC2015_train_00384000.mp4', '/tank/tgn252/metadata_annotations/result/S_yt-zKnjBBYWe90_369.mp4', '/tank/tgn252/metadata_annotations/result/R_S_pexels-cottonbro-6789234.mp4', '/tank/tgn252/metadata_annotations/result/S_production_ID_4510883.mp4', '/tank/tgn252/metadata_annotations/result/S_yt-EcOYbXulEpI_139.mp4', '/tank/tgn252/metadata_annotations/result/R_S_yt-BLmwmX-mni8_1030.mp4', '/tank/tgn252/metadata_annotations/result/S_pexels-cottonbro-6844209.mp4', '/tank/tgn252/metadata_annotations/result/R_S_yt-MTo50ReVNmU_2.mp4', '/tank/tgn252/metadata_annotations/result/R_S_comp_N008_C003_PS_v01_SDR_PS_20180925_SDR_2K_AVC.mp4', '/tank/tgn252/metadata_annotations/result/S_yt-J2PiBa1MXI0_210.mp4', '/tank/tgn252/metadata_annotations/result/S_bing-www_dailymotion_com_video_x64hzm7_8.mp4', '/tank/tgn252/metadata_annotations/result/S_yt-QxNuo4ojvz4_420.mp4', '/tank/tgn252/metadata_annotations/result/R_S_yt-5AI_SyK5sg8_112.mp4', '/tank/tgn252/metadata_annotations/result/S_yt-gikcYT6ZLzA_7.mp4', '/tank/tgn252/metadata_annotations/result/R_S_yt-cBCeq1NQgj0_1129.mp4', '/tank/tgn252/metadata_annotations/result/S_yt-6kzW30NcCOY_49.mp4', '/tank/tgn252/metadata_annotations/result/S_yt-OFbbvxTLrtM_132.mp4', '/tank/tgn252/metadata_annotations/result/R_S_yt-NqZHX-eOVUA_35.mp4', '/tank/tgn252/metadata_annotations/result/S_yt-V4Oosy-ZtGY_193.mp4', '/tank/tgn252/metadata_annotations/result/R_S_yt-ZtS7ZrJ_rtk_525.mp4', '/tank/tgn252/metadata_annotations/result/R_S_ILSVRC2015_train_00750000.mp4', '/tank/tgn252/metadata_annotations/result/S_ILSVRC2015_train_00569002.mp4', '/tank/tgn252/metadata_annotations/result/R_S_yt-7e6Z9QQieAk_183.mp4', '/tank/tgn252/metadata_annotations/result/R_S_yt-xqHrTtvFFIs_3.mp4', '/tank/tgn252/metadata_annotations/result/S_yt-8LO59eN9om4_16.mp4', '/tank/tgn252/metadata_annotations/result/R_S_AK_A004_C012_SDR_20191217_SDR_2K_AVC.mp4', '/tank/tgn252/metadata_annotations/result/S_ILSVRC2015_train_00079001.mp4', '/tank/tgn252/metadata_annotations/result/S_ILSVRC2015_train_00708000.mp4', '/tank/tgn252/metadata_annotations/result/R_S_yt-sC9suzTl1Y0_22.mp4', '/tank/tgn252/metadata_annotations/result/R_S_yt-zr0tzAC2XHk_417.mp4', '/tank/tgn252/metadata_annotations/result/R_S_ILSVRC2015_train_00723001.mp4', '/tank/tgn252/metadata_annotations/result/R_S_yt-SPbEzYcZKIc_13.mp4', '/tank/tgn252/metadata_annotations/result/R_S_yt-fq7m668hqZo_39.mp4', '/tank/tgn252/metadata_annotations/result/S_pexels-c-technical-6763571.mp4', '/tank/tgn252/metadata_annotations/result/R_S_yt-_zDYi2P-QxY_128.mp4', '/tank/tgn252/metadata_annotations/result/S_yt-a4T5fdpRKlQ_125.mp4', '/tank/tgn252/metadata_annotations/result/S_pexels-diva-plavalaguna-6985395_1.mp4', '/tank/tgn252/metadata_annotations/result/S_yt-ZBhTpmrAlUY_70.mp4', '/tank/tgn252/metadata_annotations/result/S_production_ID_4428752.mp4', '/tank/tgn252/metadata_annotations/result/S_yt-kINZMjys3O4_112.mp4', '/tank/tgn252/metadata_annotations/result/S_yt-PvWkOmfZuSY_4.mp4', '/tank/tgn252/metadata_annotations/result/R_S_BO_A018_C029_SDR_20190812_SDR_2K_AVC.mp4', '/tank/tgn252/metadata_annotations/result/R_S_production_ID_4787635.mp4', '/tank/tgn252/metadata_annotations/result/S_I003_C008_SDR_2K_AVC.mp4', '/tank/tgn252/metadata_annotations/result/R_S_yt-JH6qCYAnX-I_70.mp4', '/tank/tgn252/metadata_annotations/result/R_S_yt-OFbbvxTLrtM_132.mp4', '/tank/tgn252/metadata_annotations/result/R_S_gX_VbZnZO0k_13.mp4', '/tank/tgn252/metadata_annotations/result/S_yt-qYuLW5vSotM_160.mp4', '/tank/tgn252/metadata_annotations/result/R_S_yt-cu4AVz6o2eg_24.mp4', '/tank/tgn252/metadata_annotations/result/S_yt-_xfncCRYpII_32.mp4', '/tank/tgn252/metadata_annotations/result/R_S_yt-EcOYbXulEpI_139.mp4', '/tank/tgn252/metadata_annotations/result/R_S_yt-RO4mhuXBVrY_67.mp4', '/tank/tgn252/metadata_annotations/result/S_comp_A006_C003_1219EE_CC_v01_SDR_PS_FINAL_20180709_SDR_2K_AVC.mp4', '/tank/tgn252/metadata_annotations/result/S_ILSVRC2015_train_00753000.mp4', '/tank/tgn252/metadata_annotations/result/S_bing-www_break_com_video_like-a-cat-catching-a-fly-3131008_12.mp4', '/tank/tgn252/metadata_annotations/result/S_comp_A114_C001_0305OT_v10_SDR_FINAL_22062018_SDR_2K_AVC.mp4', '/tank/tgn252/metadata_annotations/result/R_S_pexels-mikael-blomkvist-8689852.mp4', '/tank/tgn252/metadata_annotations/result/S_yt-Z0nfPTEEOLo_85.mp4', '/tank/tgn252/metadata_annotations/result/S_yt-mQRzWCcKOR8_28.mp4', '/tank/tgn252/metadata_annotations/result/S_yt-vjed5qyKqZw_1.mp4', '/tank/tgn252/metadata_annotations/result/R_S_comp_LA_A008_C004_ALTB_ED_FROM_FLAME_RETIME_v46_SDR_PS_20180917_SDR_2K_AVC.mp4', '/tank/tgn252/metadata_annotations/result/S_yt-O6FS0xnF0CU_106.mp4', '/tank/tgn252/metadata_annotations/result/S_yt-YEiNSML5iiQ_18.mp4', '/tank/tgn252/metadata_annotations/result/R_S_yt-XRQ_LSGGr3Y_712.mp4', '/tank/tgn252/metadata_annotations/result/S_yt-kA0ybjmoiMc_284.mp4', '/tank/tgn252/metadata_annotations/result/R_S_yt-72bAjwP-nWM_30.mp4', '/tank/tgn252/metadata_annotations/result/R_S_yt-O_6CyqHeJig_132.mp4', '/tank/tgn252/metadata_annotations/result/R_S_yt-ibDaDIEazxg_3.mp4', '/tank/tgn252/metadata_annotations/result/S_yt-0RBWX9VRzaU_141.mp4', '/tank/tgn252/metadata_annotations/result/R_S_yt-7Ya-rGPO8cM_159.mp4', '/tank/tgn252/metadata_annotations/result/R_S_pexels-yaroslav-shuraev-8091356.mp4', '/tank/tgn252/metadata_annotations/result/R_S_yt-hMyqUMAbFAk_303.mp4', '/tank/tgn252/metadata_annotations/result/R_S_yt-GBqXIFjZf8w_28.mp4', '/tank/tgn252/metadata_annotations/result/R_S_production_ID_4124475.mp4', '/tank/tgn252/metadata_annotations/result/S_yt-gbDSSDcRlg4_31.mp4', '/tank/tgn252/metadata_annotations/result/S_yt-jsG6vM9Lkoc_318.mp4', '/tank/tgn252/metadata_annotations/result/R_S_yt-4Qz0m5IYh10_167.mp4', '/tank/tgn252/metadata_annotations/result/R_S_ga8dBJH_qK8_765.mp4', '/tank/tgn252/metadata_annotations/result/R_S_flickr-hapanine-31880782705_22.mp4', '/tank/tgn252/metadata_annotations/result/R_S_ILSVRC2015_train_00165008.mp4', '/tank/tgn252/metadata_annotations/result/R_S_yt-hmtcRLNoYZc_17.mp4', '/tank/tgn252/metadata_annotations/result/S_yt-JpOBXV46TLE_124.mp4', '/tank/tgn252/metadata_annotations/result/R_S_comp_A351_C001_v06_SDR_PS_20180725_SDR_2K_AVC.mp4', '/tank/tgn252/metadata_annotations/result/R_S_yt-2cwARrUMj40_67.mp4', '/tank/tgn252/metadata_annotations/result/R_S_yt--I4Ggi6-QOE_23.mp4', '/tank/tgn252/metadata_annotations/result/S_wc-dwTccI0TNwps_15.mp4', '/tank/tgn252/metadata_annotations/result/S_yt-JVhfcpV7OaY_71.mp4', '/tank/tgn252/metadata_annotations/result/R_S_yt-uE9XoCLZlFo_1.mp4', '/tank/tgn252/metadata_annotations/result/S_yt-11S5tcT2Tm0_254.mp4', '/tank/tgn252/metadata_annotations/result/S_yt-Fm97IY0Z2LU_110.mp4', '/tank/tgn252/metadata_annotations/result/R_S_yt-g_LvosijBF0_54.mp4', '/tank/tgn252/metadata_annotations/result/R_S_yt-sa-EMUqvd5w_245.mp4', '/tank/tgn252/metadata_annotations/result/S_yt-r7brAHgxZSU_248.mp4', '/tank/tgn252/metadata_annotations/result/S_yt-DpLc4e4bpu0_1467.mp4', '/tank/tgn252/metadata_annotations/result/R_S_yt-0qWYjx341mc_7.mp4', '/tank/tgn252/metadata_annotations/result/S_yt-2ICWjxvgVYU_4.mp4', '/tank/tgn252/metadata_annotations/result/S_ILSVRC2015_train_00599000.mp4', '/tank/tgn252/metadata_annotations/result/R_S_yt-OdTWn1U1mO4_68.mp4', '/tank/tgn252/metadata_annotations/result/R_S_yt-11S5tcT2Tm0_254.mp4', '/tank/tgn252/metadata_annotations/result/R_S_yt-Fm97IY0Z2LU_110.mp4', '/tank/tgn252/metadata_annotations/result/S_yt-sa-EMUqvd5w_245.mp4', '/tank/tgn252/metadata_annotations/result/S_yt-Kwfwhd07dVo_2.mp4', '/tank/tgn252/metadata_annotations/result/S_yt-ujdFTAUE8rc_34.mp4', '/tank/tgn252/metadata_annotations/result/R_S_yt-RXqc3JAmmPM_72.mp4', '/tank/tgn252/metadata_annotations/result/R_S_ILSVRC2015_train_00497001.mp4', '/tank/tgn252/metadata_annotations/result/S_yt-1UFhynm5g6Y_266.mp4', '/tank/tgn252/metadata_annotations/result/S_yt-Wr5pSPApQDw_235.mp4', '/tank/tgn252/metadata_annotations/result/S_yt-_68FWLGgPYE_25.mp4', '/tank/tgn252/metadata_annotations/result/R_S_wc-__wCAtivIDG3_93.mp4', '/tank/tgn252/metadata_annotations/result/S_yt-CGBD5bNhmZc_75.mp4', '/tank/tgn252/metadata_annotations/result/R_S_yt-MNo__ov96eI_22.mp4', '/tank/tgn252/metadata_annotations/result/S_yt-hMyqUMAbFAk_303.mp4', '/tank/tgn252/metadata_annotations/result/R_S_yt-XYULt48onn4_6.mp4', '/tank/tgn252/metadata_annotations/result/R_S_yt_R-0ngqGSOeXEc_415.mp4', '/tank/tgn252/metadata_annotations/result/S_yt-kQpE9L-fsNE_55.mp4', '/tank/tgn252/metadata_annotations/result/S_pexels-mart-production-8435081.mp4', '/tank/tgn252/metadata_annotations/result/S_pexels-rodnae-productions-5544703.mp4', '/tank/tgn252/metadata_annotations/result/S_ILSVRC2015_train_00368000.mp4', '/tank/tgn252/metadata_annotations/result/R_S_yt-OLDm2slgfA4_3.mp4', '/tank/tgn252/metadata_annotations/result/R_S_yt-bWXohhodbjg_98.mp4', '/tank/tgn252/metadata_annotations/result/S_comp_A351_C001_v06_SDR_PS_20180725_SDR_2K_AVC.mp4', '/tank/tgn252/metadata_annotations/result/S_comp_GMT308_139K_142NC_CARIBBEAN_DAY_v09_SDR_FINAL_22062018_SDR_2K_AVC.mp4', '/tank/tgn252/metadata_annotations/result/R_S_yt-P2RwcXMKIbQ_1.mp4', '/tank/tgn252/metadata_annotations/result/R_S_yt-0RBWX9VRzaU_141.mp4', '/tank/tgn252/metadata_annotations/result/S_yt-58F4cMRhSw8_69.mp4', '/tank/tgn252/metadata_annotations/result/R_S_yt-Ndwek2tpIOA_169.mp4', '/tank/tgn252/metadata_annotations/result/S_yt-31WwM4UgsVI_322.mp4', '/tank/tgn252/metadata_annotations/result/S_yt-JxqSboqaUPY_5.mp4', '/tank/tgn252/metadata_annotations/result/S_yt-zpoIiHGRm5k_296.mp4', '/tank/tgn252/metadata_annotations/result/S_yt-ayx4rU9bJrU_179.mp4', '/tank/tgn252/metadata_annotations/result/R_S_ILSVRC2015_train_00415007.mp4', '/tank/tgn252/metadata_annotations/result/S_yt-ZynGxEtFNdk_243.mp4', '/tank/tgn252/metadata_annotations/result/R_S_Pexels_Videos_2795171.mp4', '/tank/tgn252/metadata_annotations/result/R_S_yt-vDjj0EWFdIU_49.mp4', '/tank/tgn252/metadata_annotations/result/R_S_wc-q23aBNJMZbnZ_27.mp4', '/tank/tgn252/metadata_annotations/result/R_S_yt-7W50lcw5FCo_37.mp4', '/tank/tgn252/metadata_annotations/result/R_S_ILSVRC2015_train_00628000.mp4', '/tank/tgn252/metadata_annotations/result/S_yt-UPgF4YAHBQY_33.mp4', '/tank/tgn252/metadata_annotations/result/S_yt-Xq6uX1jfFRk_21.mp4', '/tank/tgn252/metadata_annotations/result/S_yt-7K5X1G7Cpls_965.mp4', '/tank/tgn252/metadata_annotations/result/S_yt-vQGD-rJyMw4_166.mp4', '/tank/tgn252/metadata_annotations/result/S_yt-3E02UEHdoZ4_752.mp4', '/tank/tgn252/metadata_annotations/result/R_S_yt-2ZsK7zSCJ2w_67.mp4', '/tank/tgn252/metadata_annotations/result/S_ILSVRC2015_train_00394000.mp4', '/tank/tgn252/metadata_annotations/result/R_S_yt-P8vJa4YVcGU_488.mp4', '/tank/tgn252/metadata_annotations/result/R_S_yt-LZS1RrEtTeQ_136.mp4', '/tank/tgn252/metadata_annotations/result/S_yt-wVMhACNFF-M_154.mp4', '/tank/tgn252/metadata_annotations/result/S_video-5.mp4', '/tank/tgn252/metadata_annotations/result/S_yt-7Fyu2vr7zbA_31.mp4', '/tank/tgn252/metadata_annotations/result/R_S_production_ID_3927047.mp4', '/tank/tgn252/metadata_annotations/result/S_yt-KV8X9IBWuJk_48.mp4', '/tank/tgn252/metadata_annotations/result/S_yt-w7dXHLrfZI4_223.mp4', '/tank/tgn252/metadata_annotations/result/R_S_yt-KM_SJx8CMGc_10.mp4', '/tank/tgn252/metadata_annotations/result/S_pexels-rodnae-productions-5993654.mp4', '/tank/tgn252/metadata_annotations/result/R_S_yt-rNjnYLsk32k_1172.mp4', '/tank/tgn252/metadata_annotations/result/S_yt-GaJaxp546lc_22.mp4', '/tank/tgn252/metadata_annotations/result/R_S_ILSVRC2015_train_00515001.mp4', '/tank/tgn252/metadata_annotations/result/S_G009_C003_UHD_SDR_2K_AVC.mp4', '/tank/tgn252/metadata_annotations/result/S_yt-bH4nJibL4Jo_164.mp4', '/tank/tgn252/metadata_annotations/result/R_S_yt-vQGD-rJyMw4_166.mp4', '/tank/tgn252/metadata_annotations/result/S_yt-6aqg1P9YqR8_38.mp4', '/tank/tgn252/metadata_annotations/result/S_ILSVRC2015_train_00165012.mp4', '/tank/tgn252/metadata_annotations/result/S_comp_A083_C002_1130KZ_v04_SDR_PS_FINAL_20180725_SDR_2K_AVC.mp4', '/tank/tgn252/metadata_annotations/result/R_S_video-12.mp4', '/tank/tgn252/metadata_annotations/result/R_S_yt-nB2WgvYt7bA_170.mp4', '/tank/tgn252/metadata_annotations/result/S_Y002_C013_SDR_2K_AVC.mp4', '/tank/tgn252/metadata_annotations/result/R_S_yt-iuqdW5OLSzc_6.mp4', '/tank/tgn252/metadata_annotations/result/S_Ds4EKTLx_RI_51.mp4', '/tank/tgn252/metadata_annotations/result/S_yt-JtR6WZXT2kU_8.mp4', '/tank/tgn252/metadata_annotations/result/S_yt-PyO8-WsbaLU_43.mp4', '/tank/tgn252/metadata_annotations/result/S_yt-Ndwek2tpIOA_169.mp4', '/tank/tgn252/metadata_annotations/result/R_S_pexels-koolshooters-7327405.mp4', '/tank/tgn252/metadata_annotations/result/R_S_comp_LA_A006_C008_PSNK_ALL_LOGOS_v10_SDR_PS_FINAL_20180801_SDR_2K_AVC.mp4', '/tank/tgn252/metadata_annotations/result/S_yt-WFiEvQuOqqg_18.mp4', '/tank/tgn252/metadata_annotations/result/S_yt-iHmshS63rBc_329.mp4', '/tank/tgn252/metadata_annotations/result/S_yt-mDil5vGZb14_4049.mp4', '/tank/tgn252/metadata_annotations/result/S_wc-ujHd_fPVcSlX_10.mp4', '/tank/tgn252/metadata_annotations/result/R_S_yt-A1XT1fT1c8w_24.mp4', '/tank/tgn252/metadata_annotations/result/R_S_yt-qycUhA3Isjg_67.mp4', '/tank/tgn252/metadata_annotations/result/R_S_yt-wCGilnAvV3s_188.mp4', '/tank/tgn252/metadata_annotations/result/S_Y003_C009_SDR_2K_AVC.mp4', '/tank/tgn252/metadata_annotations/result/S_yt-Rybd-sKJFz0_78.mp4', '/tank/tgn252/metadata_annotations/result/R_S_yt-w_e3sxIzepA_27.mp4', '/tank/tgn252/metadata_annotations/result/S_wc-ZZxbTv7oc5DQ_10.mp4', '/tank/tgn252/metadata_annotations/result/R_S_ILSVRC2015_train_00587000.mp4', '/tank/tgn252/metadata_annotations/result/S_yt-w_e3sxIzepA_115.mp4', '/tank/tgn252/metadata_annotations/result/R_S_yt-4oacL3aXtlU_11.mp4', '/tank/tgn252/metadata_annotations/result/S_yt-PDNWrJ2bZ6I_79.mp4', '/tank/tgn252/metadata_annotations/result/R_S_yt-l_pvPAznG1A_20.mp4', '/tank/tgn252/metadata_annotations/result/S_yt-Xkx53mjgj2E_30.mp4', '/tank/tgn252/metadata_annotations/result/R_S_yt-ABgPwG7Ggn4_41.mp4', '/tank/tgn252/metadata_annotations/result/S_flickr-seattlemcneals-996953_3.mp4', '/tank/tgn252/metadata_annotations/result/R_S_b4-3.mp4', '/tank/tgn252/metadata_annotations/result/R_S_Pz_NXxhQCJc_70.mp4', '/tank/tgn252/metadata_annotations/result/S_I003_C004_SDR_2K_AVC.mp4', '/tank/tgn252/metadata_annotations/result/R_S_yt-mH-yEUYOzYY_7.mp4', '/tank/tgn252/metadata_annotations/result/R_S_yt-VMUSo8E_Fj8_171.mp4', '/tank/tgn252/metadata_annotations/result/R_S_yt--OkafQ5VFHs_51.mp4', '/tank/tgn252/metadata_annotations/result/R_S_yt-H-qQ0oE1kwM_6.mp4', '/tank/tgn252/metadata_annotations/result/R_S_pexels-rodnae-productions-5617905.mp4', '/tank/tgn252/metadata_annotations/result/R_S_wc-Mf8SQpviaD6D_17.mp4', '/tank/tgn252/metadata_annotations/result/S_wc-NzEeGIXLxvwp_19.mp4', '/tank/tgn252/metadata_annotations/result/R_S_yt-ieA3XwoSko4_98.mp4', '/tank/tgn252/metadata_annotations/result/S_yt-qycUhA3Isjg_76.mp4', '/tank/tgn252/metadata_annotations/result/R_S_ILSVRC2015_train_00434000.mp4', '/tank/tgn252/metadata_annotations/result/S_yt-0Ut9QANGX20_35.mp4', '/tank/tgn252/metadata_annotations/result/S_ILSVRC2015_train_00415003.mp4', '/tank/tgn252/metadata_annotations/result/S_yt-hQ5pge893b4_6.mp4', '/tank/tgn252/metadata_annotations/result/S_yt-V35ubrbe8gA_86.mp4', '/tank/tgn252/metadata_annotations/result/S_yt-9Z9-RT-ysEE_85.mp4', '/tank/tgn252/metadata_annotations/result/S_pexels-mikhail-nilov-8410084_1.mp4', '/tank/tgn252/metadata_annotations/result/R_S_yt-ZwnliF0525U_95.mp4', '/tank/tgn252/metadata_annotations/result/R_S_comp_LA_A009_C009_PSNK_v02_SDR_PS_FINAL_20180709_SDR_2K_AVC.mp4', '/tank/tgn252/metadata_annotations/result/R_S_yt-AJypa57HKqM_28.mp4', '/tank/tgn252/metadata_annotations/result/R_S_yt-etF_WUW5D68_3.mp4', '/tank/tgn252/metadata_annotations/result/R_S_yt-XbNHfZjXuVM_43.mp4', '/tank/tgn252/metadata_annotations/result/S_yt-WGxmmrlfdgI_10.mp4', '/tank/tgn252/metadata_annotations/result/S_yt-cONX-OgVhHU_1821.mp4', '/tank/tgn252/metadata_annotations/result/S_yt-nCNZ87Tio1M_1.mp4', '/tank/tgn252/metadata_annotations/result/R_S_yt-dkBlyE3igk0_44.mp4', '/tank/tgn252/metadata_annotations/result/S_wc-PX_MIe5L43_3_16.mp4', '/tank/tgn252/metadata_annotations/result/R_S_yt-Y32yFYRmNVU_22.mp4', '/tank/tgn252/metadata_annotations/result/S_yt-q9-_bG9ry3E_5.mp4', '/tank/tgn252/metadata_annotations/result/S_yt-_HuBzj8EPBc_62.mp4', '/tank/tgn252/metadata_annotations/result/S_yt-be7r-ha8BpA_1045.mp4', '/tank/tgn252/metadata_annotations/result/R_S_yt-BCFGCganiuE_8.mp4', '/tank/tgn252/metadata_annotations/result/S_ILSVRC2015_train_00555002.mp4', '/tank/tgn252/metadata_annotations/result/R_S_comp_C001_C005_PS_v01_SDR_PS_20180925_SDR_2K_AVC.mp4', '/tank/tgn252/metadata_annotations/result/R_S_yt-LdHRVIb4nIE_6.mp4', '/tank/tgn252/metadata_annotations/result/S_yt-MToRA8FcNJ4_138.mp4', '/tank/tgn252/metadata_annotations/result/S_ILSVRC2015_train_00369002.mp4', '/tank/tgn252/metadata_annotations/result/R_S_yt-VfASxEzDrvc_145.mp4', '/tank/tgn252/metadata_annotations/result/R_S_BsNCrwV7d8Q_9.mp4', '/tank/tgn252/metadata_annotations/result/R_S_yt-5fZZrdwkFx0_28.mp4', '/tank/tgn252/metadata_annotations/result/R_S_video_inspire_california_catalina_00005.1080-h264.mp4', '/tank/tgn252/metadata_annotations/result/S_yt-feTWuKPZA_k_34.mp4', '/tank/tgn252/metadata_annotations/result/S_ILSVRC2015_train_00323000.mp4', '/tank/tgn252/metadata_annotations/result/R_S_wc-FHhoQVWB3MOR_1.mp4', '/tank/tgn252/metadata_annotations/result/S_yt-ZBk_XFb5PGo_25.mp4', '/tank/tgn252/metadata_annotations/result/R_S_ILSVRC2015_train_00479000.mp4', '/tank/tgn252/metadata_annotations/result/R_S_yt-JXmyvkbRYk4_5.mp4', '/tank/tgn252/metadata_annotations/result/S_yt-1VTxnf2hZ0w_675.mp4', '/tank/tgn252/metadata_annotations/result/R_S_yt-6UFUeTKci2o_164.mp4', '/tank/tgn252/metadata_annotations/result/R_S_yt-QQPv17nfR_E_2.mp4', '/tank/tgn252/metadata_annotations/result/S_yt-v66td-1WO7w_44.mp4', '/tank/tgn252/metadata_annotations/result/R_S_wc-ZZxbTv7oc5DQ_10.mp4', '/tank/tgn252/metadata_annotations/result/R_S_ILSVRC2015_train_00661001.mp4', '/tank/tgn252/metadata_annotations/result/S_yt-FH07OivQGOM_30.mp4', '/tank/tgn252/metadata_annotations/result/R_S_wc-16LozRfhUGea_49.mp4', '/tank/tgn252/metadata_annotations/result/R_S_yt-SyePE8wOlxs_321.mp4', '/tank/tgn252/metadata_annotations/result/R_S_JApTAOdfunE_1251.mp4', '/tank/tgn252/metadata_annotations/result/R_S_bing-www_nbcnews_com_storyline_isis-terror_fall-isis-stronghold-raqqa-will-change-war-extremists-not-end-n808621_86.mp4', '/tank/tgn252/metadata_annotations/result/S_WCwb-DeQOSg_85.mp4', '/tank/tgn252/metadata_annotations/result/S_ILSVRC2015_train_00396000.mp4', '/tank/tgn252/metadata_annotations/result/S_comp_HK_H004_C013_t9_6M_HB_tag0.mp4', '/tank/tgn252/metadata_annotations/result/S_video_inspire_california_catalina_00005.1080-h264.mp4', '/tank/tgn252/metadata_annotations/result/S_yt-utYnOeoj2Rw_3.mp4', '/tank/tgn252/metadata_annotations/result/R_S_video-4.mp4', '/tank/tgn252/metadata_annotations/result/R_S_yt-vQ-rd-1gwH4_238.mp4', '/tank/tgn252/metadata_annotations/result/S_yt-AJypa57HKqM_28.mp4', '/tank/tgn252/metadata_annotations/result/S_gX_VbZnZO0k_13.mp4', '/tank/tgn252/metadata_annotations/result/S_yt-W4Shvmb1JYs_258.mp4', '/tank/tgn252/metadata_annotations/result/S_yt-GLK6LniTOK0_69.mp4', '/tank/tgn252/metadata_annotations/result/R_S_yt-4ouMuGUuPHI_193.mp4', '/tank/tgn252/metadata_annotations/result/S_yt-8gaLZxx-q50_142.mp4', '/tank/tgn252/metadata_annotations/result/R_S_yt-feTWuKPZA_k_34.mp4', '/tank/tgn252/metadata_annotations/result/R_S_yt-PcOWc5EJbVo_39.mp4', '/tank/tgn252/metadata_annotations/result/S_yt-z46eFYG950M_222.mp4', '/tank/tgn252/metadata_annotations/result/R_S_yt-ZBk_XFb5PGo_25.mp4', '/tank/tgn252/metadata_annotations/result/R_S_yt-FbCVXEJicis_5.mp4', '/tank/tgn252/metadata_annotations/result/R_S_yt-7Z6Kmp0n7L8_145.mp4', '/tank/tgn252/metadata_annotations/result/S_yt-5zcm2aYFYHw_49.mp4', '/tank/tgn252/metadata_annotations/result/S_BO_A012_C031_SDR_20190726_SDR_2K_AVC.mp4', '/tank/tgn252/metadata_annotations/result/S_yt-BrepyEWKrPQ_20.mp4', '/tank/tgn252/metadata_annotations/result/S_wc-oyG6AjP_W2EL_15.mp4', '/tank/tgn252/metadata_annotations/result/R_S_yt-TqVe93JCGmM_12.mp4', '/tank/tgn252/metadata_annotations/result/S_yt-bWXohhodbjg_86.mp4', '/tank/tgn252/metadata_annotations/result/S_yt-7Z6Kmp0n7L8_145.mp4', '/tank/tgn252/metadata_annotations/result/S_yt-ABgPwG7Ggn4_41.mp4', '/tank/tgn252/metadata_annotations/result/S_production_ID_4101307.mp4', '/tank/tgn252/metadata_annotations/result/R_S_wc-oyG6AjP_W2EL_15.mp4', '/tank/tgn252/metadata_annotations/result/S_pexels-anastasia-shuraeva-601407_2.mp4', '/tank/tgn252/metadata_annotations/result/S_yt-4oacL3aXtlU_11.mp4', '/tank/tgn252/metadata_annotations/result/S_yt-w_e3sxIzepA_27.mp4', '/tank/tgn252/metadata_annotations/result/S_yt-0bovQBIUZho_15.mp4', '/tank/tgn252/metadata_annotations/result/R_S_ILSVRC2015_train_00001012.mp4', '/tank/tgn252/metadata_annotations/result/R_S_yt-QJ2k6vA8aco_12.mp4', '/tank/tgn252/metadata_annotations/result/R_S_yt-XtzmBXKYEWk_60.mp4', '/tank/tgn252/metadata_annotations/result/S_pexels-kindel-media-8165572.mp4', '/tank/tgn252/metadata_annotations/result/R_S_yt-VypeVQ7gJ_k_578.mp4', '/tank/tgn252/metadata_annotations/result/S_yt-jy7rAnpu0u8_128.mp4', '/tank/tgn252/metadata_annotations/result/R_S_yt-wEbfIR14zZ8_7.mp4', '/tank/tgn252/metadata_annotations/result/S_pexels-pavel-danilyuk-8057714.mp4', '/tank/tgn252/metadata_annotations/result/R_S_ILSVRC2015_train_00532000.mp4', '/tank/tgn252/metadata_annotations/result/S_pexels-kampus-production-6022792_1.mp4', '/tank/tgn252/metadata_annotations/result/S_yt-qF-69JWJX_Y_55.mp4', '/tank/tgn252/metadata_annotations/result/R_S_yt-0aHV3uU8xFY_75.mp4', '/tank/tgn252/metadata_annotations/result/R_S_yt--a-d97T4Gak_75.mp4', '/tank/tgn252/metadata_annotations/result/S_yt-12WvjZ36dmU_4.mp4', '/tank/tgn252/metadata_annotations/result/R_S_ILSVRC2015_train_00572000.mp4', '/tank/tgn252/metadata_annotations/result/R_S_yt-2IxVZeiSv3g_28.mp4', '/tank/tgn252/metadata_annotations/result/R_S_yt-Q6BFO3Yz0zY_363.mp4', '/tank/tgn252/metadata_annotations/result/R_S_ILSVRC2015_train_00569007.mp4', '/tank/tgn252/metadata_annotations/result/S_yt-Rqwi-Fk9IJQ_114.mp4', '/tank/tgn252/metadata_annotations/result/R_S_yt-GaJaxp546lc_22.mp4', '/tank/tgn252/metadata_annotations/result/S_yt--DXkjCUzThU_413.mp4', '/tank/tgn252/metadata_annotations/result/R_S_yt-1_xoCNmTn3Y_1.mp4', '/tank/tgn252/metadata_annotations/result/R_S_yt-KV8X9IBWuJk_48.mp4', '/tank/tgn252/metadata_annotations/result/R_S_yt-zSSnQYeO_DE_338.mp4', '/tank/tgn252/metadata_annotations/result/R_S_yt-mmvWYAttrIw_2.mp4', '/tank/tgn252/metadata_annotations/result/S_yt-GigCK1Gssew_185.mp4', '/tank/tgn252/metadata_annotations/result/R_S_ILSVRC2015_train_00322000.mp4', '/tank/tgn252/metadata_annotations/result/S_Nh81j72Utbs_5.mp4', '/tank/tgn252/metadata_annotations/result/S_yt-o_Hakzj8PRg_2864.mp4', '/tank/tgn252/metadata_annotations/result/R_S_ILSVRC2015_train_00339000.mp4', '/tank/tgn252/metadata_annotations/result/R_S_yt-PyO8-WsbaLU_43.mp4', '/tank/tgn252/metadata_annotations/result/S_comp_GMT314_139M_170NC_NORTH_AMERICA_AURORA__COMP_v22_SDR_20181206_v12CC_SDR_2K_AVC.mp4', '/tank/tgn252/metadata_annotations/result/R_S_yt-rZA9zXR-A6s_426.mp4', '/tank/tgn252/metadata_annotations/result/S_video_inspire_oregon_lone-ranch-beach_00001.1080-h264.mp4', '/tank/tgn252/metadata_annotations/result/S_yt-nE8YJOhW4e4_171.mp4', '/tank/tgn252/metadata_annotations/result/S_pexels-tima-miroshnichenko-8724308.mp4', '/tank/tgn252/metadata_annotations/result/R_S_ILSVRC2015_train_00379000.mp4', '/tank/tgn252/metadata_annotations/result/R_S_yt--Ou506YF3mY_106.mp4', '/tank/tgn252/metadata_annotations/result/R_S_wc-NVeGRb_y_y_5_36.mp4', '/tank/tgn252/metadata_annotations/result/S_yt-vDjj0EWFdIU_49.mp4', '/tank/tgn252/metadata_annotations/result/S_yt_R-SwXr0ScjD9o_20.mp4', '/tank/tgn252/metadata_annotations/result/S_WO9z7lBUvOs_151.mp4', '/tank/tgn252/metadata_annotations/result/S_yt--Ou506YF3mY_106.mp4', '/tank/tgn252/metadata_annotations/result/S_ILSVRC2015_train_00450001.mp4', '/tank/tgn252/metadata_annotations/result/S_CR_A009_C007_SDR_20191113_SDR_2K_AVC.mp4', '/tank/tgn252/metadata_annotations/result/S_ILSVRC2015_train_00682005.mp4', '/tank/tgn252/metadata_annotations/result/S_yt-ILARvS15SDQ_741.mp4', '/tank/tgn252/metadata_annotations/result/S_Pexels_Videos_2795736.mp4', '/tank/tgn252/metadata_annotations/result/R_S_yt-kbf7N5K5cS0_35.mp4', '/tank/tgn252/metadata_annotations/result/S_yt-h09NHEfoKb0_8.mp4', '/tank/tgn252/metadata_annotations/result/S_comp_LA_A006_C008_PSNK_ALL_LOGOS_v10_SDR_PS_FINAL_20180801_SDR_2K_AVC.mp4', '/tank/tgn252/metadata_annotations/result/S_Pexels_Videos_2795731.mp4', '/tank/tgn252/metadata_annotations/result/R_S_bing-www_dailymotion_com_video_x64c56w_164.mp4', '/tank/tgn252/metadata_annotations/result/R_S_yt-Xq6uX1jfFRk_21.mp4', '/tank/tgn252/metadata_annotations/result/R_S_yt-Rqwi-Fk9IJQ_114.mp4', '/tank/tgn252/metadata_annotations/result/R_S_yt-IDpUZ2NWBUY_60.mp4', '/tank/tgn252/metadata_annotations/result/R_S_yt-UPgF4YAHBQY_33.mp4', '/tank/tgn252/metadata_annotations/result/R_S_yt-5rIpe3xc5rQ_18.mp4', '/tank/tgn252/metadata_annotations/result/S_pexels-rodnae-productions-7467585.mp4', '/tank/tgn252/metadata_annotations/result/S_yt-H3EadcgKySM_58.mp4', '/tank/tgn252/metadata_annotations/result/R_S_yt-hdZEAsVBEEM_19.mp4', '/tank/tgn252/metadata_annotations/result/S_yt-8N5UuN5WQcY_72.mp4', '/tank/tgn252/metadata_annotations/result/R_S_yt-dWF89kq2JIA_13.mp4', '/tank/tgn252/metadata_annotations/result/S_yt-C0iWlRWU21o_5.mp4', '/tank/tgn252/metadata_annotations/result/R_S_yt-GigCK1Gssew_185.mp4', '/tank/tgn252/metadata_annotations/result/R_S_yt-fQGoTMausn8_88.mp4', '/tank/tgn252/metadata_annotations/result/S_yt-jzDaQD-g168_103.mp4', '/tank/tgn252/metadata_annotations/result/R_S_I003_C008_SDR_2K_AVC.mp4', '/tank/tgn252/metadata_annotations/result/S_yt--vHa85DHvLU_31.mp4', '/tank/tgn252/metadata_annotations/result/R_S_yt-mI9voWol7cE_104.mp4', '/tank/tgn252/metadata_annotations/result/S_yt-iKe-0YNR5Eo_164.mp4', '/tank/tgn252/metadata_annotations/result/S_yt-Id-f63kUHsE_20.mp4', '/tank/tgn252/metadata_annotations/result/R_S_ILnEDG_aP1A_35.mp4', '/tank/tgn252/metadata_annotations/result/R_S_ILSVRC2015_train_00423000.mp4', '/tank/tgn252/metadata_annotations/result/R_S_yt-VgJZl9SddCQ_8.mp4', '/tank/tgn252/metadata_annotations/result/S_G007_C004_UHD_SDR_2K_AVC.mp4', '/tank/tgn252/metadata_annotations/result/S_yt-MWX0EtpWIs8_286.mp4', '/tank/tgn252/metadata_annotations/result/R_S_production_ID_4325503.mp4', '/tank/tgn252/metadata_annotations/result/R_S_wc-TAGpcap1KdAS_212.mp4', '/tank/tgn252/metadata_annotations/result/S_bing-www_cnn_com_2015_04_20_living_steak-eating-contest-molly-schuyler-feat_index_html_1.mp4', '/tank/tgn252/metadata_annotations/result/S_pexels-mart-production-7277934.mp4', '/tank/tgn252/metadata_annotations/result/S_yt-ujTY1igjc3E_2.mp4', '/tank/tgn252/metadata_annotations/result/S_yt-KC6I552mXwM_6.mp4', '/tank/tgn252/metadata_annotations/result/R_S_yt-nlfwzxlwRfk_12.mp4', '/tank/tgn252/metadata_annotations/result/R_S_yt-9Ow95khYa_M_91.mp4', '/tank/tgn252/metadata_annotations/result/R_S_ILSVRC2015_train_00463000.mp4', '/tank/tgn252/metadata_annotations/result/S_production_ID_4997166.mp4', '/tank/tgn252/metadata_annotations/result/R_S_yt-_6j2NXrB-zE_28.mp4', '/tank/tgn252/metadata_annotations/result/S_pexels-ron-lach-8259631.mp4', '/tank/tgn252/metadata_annotations/result/S_ILSVRC2015_train_00322000.mp4', '/tank/tgn252/metadata_annotations/result/S_goAwcQiFu1Q_99.mp4', '/tank/tgn252/metadata_annotations/result/R_S_yt-YMI27rk5qUQ_117.mp4', '/tank/tgn252/metadata_annotations/result/S_wc-lItGMdwvEd_l_7.mp4', '/tank/tgn252/metadata_annotations/result/S_yt-HQQws1Lp_rQ_10.mp4', '/tank/tgn252/metadata_annotations/result/S_yt-xKteiAi5h7Q_36.mp4', '/tank/tgn252/metadata_annotations/result/R_S_yt-Q9fI2ar05IE_77.mp4', '/tank/tgn252/metadata_annotations/result/S_yt-Jcmf9XyBdMk_119.mp4', '/tank/tgn252/metadata_annotations/result/R_S_yt-0buqUbXVTn8_48.mp4', '/tank/tgn252/metadata_annotations/result/S_yt-6KJ_yZR-Jco_14.mp4', '/tank/tgn252/metadata_annotations/result/R_S_yt-C0INfEJ4Awk_53.mp4', '/tank/tgn252/metadata_annotations/result/S_yt-D9iwtEHx8M0_20.mp4', '/tank/tgn252/metadata_annotations/result/S_yt-O4wUEZwHLyI_114.mp4', '/tank/tgn252/metadata_annotations/result/S_G010_C026_UHD_SDR_v02_2K_AVC.mp4', '/tank/tgn252/metadata_annotations/result/R_S_bing-vimeo_com_218382006_69.mp4', '/tank/tgn252/metadata_annotations/result/S_yt-4NjyKFnwHBo_13.mp4', '/tank/tgn252/metadata_annotations/result/R_S_yt-ChAhBD9LrsU_223.mp4', '/tank/tgn252/metadata_annotations/result/S_yt-NNl5SiIQHsA_29.mp4', '/tank/tgn252/metadata_annotations/result/S_yt-3JApfnMu5cU_378.mp4', '/tank/tgn252/metadata_annotations/result/R_S_yt-QFGyhhr1KSQ_9.mp4', '/tank/tgn252/metadata_annotations/result/S_yt-Ul81y6R9YbE_12.mp4', '/tank/tgn252/metadata_annotations/result/S_ILSVRC2015_train_00638001.mp4', '/tank/tgn252/metadata_annotations/result/R_S_ILSVRC2015_train_00569004.mp4', '/tank/tgn252/metadata_annotations/result/S_yt-YMI27rk5qUQ_117.mp4', '/tank/tgn252/metadata_annotations/result/S_S005_C015_SDR_2K_AVC.mp4', '/tank/tgn252/metadata_annotations/result/R_S_yt-GWgG8PVM1iw_34.mp4', '/tank/tgn252/metadata_annotations/result/R_S_ILSVRC2015_train_00578001.mp4', '/tank/tgn252/metadata_annotations/result/S_yt-qiPhBL4lBr0_44.mp4', '/tank/tgn252/metadata_annotations/result/R_S_yt-VyVvEvP6MRM_124.mp4', '/tank/tgn252/metadata_annotations/result/S_yt-4wjGeLyvfjY_223.mp4', '/tank/tgn252/metadata_annotations/result/S_yt-NQSCGMpo-p8_118.mp4', '/tank/tgn252/metadata_annotations/result/R_S_ILSVRC2015_train_00569003.mp4', '/tank/tgn252/metadata_annotations/result/R_S_yt-lADkWM79teI_18.mp4', '/tank/tgn252/metadata_annotations/result/S_yt-t9sowxGR_s4_1.mp4', '/tank/tgn252/metadata_annotations/result/R_S_yt--7-rH4IBKLE_19.mp4', '/tank/tgn252/metadata_annotations/result/R_S_comp_N008_C009_PS_v01_SDR_PS_20180925_SDR_2K_AVC.mp4', '/tank/tgn252/metadata_annotations/result/R_S_g201_AK_A003_C014_SDR_20191113_SDR_2K_AVC.mp4', '/tank/tgn252/metadata_annotations/result/R_S_yt-3HpAmr5BApU_35.mp4', '/tank/tgn252/metadata_annotations/result/S_comp_LA_A009_C009_PSNK_v02_SDR_PS_FINAL_20180709_SDR_2K_AVC.mp4', '/tank/tgn252/metadata_annotations/result/S_yt-k7ALBAMWX2M_6.mp4', '/tank/tgn252/metadata_annotations/result/R_S_ILSVRC2015_train_00001011.mp4', '/tank/tgn252/metadata_annotations/result/R_S_yt-MWX0EtpWIs8_286.mp4', '/tank/tgn252/metadata_annotations/result/S_yt-oT4Bq8zYN4E_42.mp4', '/tank/tgn252/metadata_annotations/result/R_S_yt-TlNzKjxCIK4_970.mp4', '/tank/tgn252/metadata_annotations/result/R_S_yt-qX2KH8RLnKs_50.mp4', '/tank/tgn252/metadata_annotations/result/R_S_yt-sGckFFOLO30_164.mp4', '/tank/tgn252/metadata_annotations/result/S_yt_R-lST38EdfMMQ_5.mp4', '/tank/tgn252/metadata_annotations/result/S_yt--xKSTYy9mcA_54.mp4', '/tank/tgn252/metadata_annotations/result/S_yt-dESxu60Cl10_24.mp4', '/tank/tgn252/metadata_annotations/result/R_S_yt-pGtq_Y0PUAw_28.mp4', '/tank/tgn252/metadata_annotations/result/R_S_yt-PYP0fEQ357c_89.mp4', '/tank/tgn252/metadata_annotations/result/S_yt-l6WPyKg_3is_154.mp4', '/tank/tgn252/metadata_annotations/result/R_S_yt-iAQ98zgVlds_97.mp4', '/tank/tgn252/metadata_annotations/result/S_yt-Snha8C5YOiY_70.mp4', '/tank/tgn252/metadata_annotations/result/R_S_yt-kxWtOXNIsRA_329.mp4', '/tank/tgn252/metadata_annotations/result/S_ILSVRC2015_train_00417000.mp4', '/tank/tgn252/metadata_annotations/result/S_8d08M6iP-vU_44.mp4', '/tank/tgn252/metadata_annotations/result/R_S_yt-82O1uT8dmv8_12.mp4', '/tank/tgn252/metadata_annotations/result/R_S_yt-E8EDQCPbBeI_196.mp4', '/tank/tgn252/metadata_annotations/result/R_S_yt-Iu2ZPHLqXuY_32.mp4', '/tank/tgn252/metadata_annotations/result/R_S_yt-QOPuhPO1hkk_27.mp4', '/tank/tgn252/metadata_annotations/result/S_yt-CZ2qiY-kS7Y_105.mp4', '/tank/tgn252/metadata_annotations/result/R_S_I003_C011_SDR_2K_AVC.mp4', '/tank/tgn252/metadata_annotations/result/R_S_ILSVRC2015_train_00594001.mp4', '/tank/tgn252/metadata_annotations/result/S_yt-sBdvBO-TPNM_8.mp4', '/tank/tgn252/metadata_annotations/result/R_S_production_ID_3709168.mp4', '/tank/tgn252/metadata_annotations/result/S_yt-zgimmOcW5Mc_127.mp4', '/tank/tgn252/metadata_annotations/result/S_ILSVRC2015_train_00165009.mp4', '/tank/tgn252/metadata_annotations/result/R_S_yt-CZ2qiY-kS7Y_105.mp4', '/tank/tgn252/metadata_annotations/result/R_S_yt-lkpfs_4qAGE_50.mp4', '/tank/tgn252/metadata_annotations/result/S_ILSVRC2015_train_00355000.mp4', '/tank/tgn252/metadata_annotations/result/S_ILSVRC2015_train_00572000.mp4', '/tank/tgn252/metadata_annotations/result/S_yt-oAVThIM5Bhg_241.mp4', '/tank/tgn252/metadata_annotations/result/S_yt-3roniRu6w58_10.mp4', '/tank/tgn252/metadata_annotations/result/R_S_yt-J4Ci5b3z4fo_4.mp4', '/tank/tgn252/metadata_annotations/result/R_S_G009_C014_UHD_SDR_2K_AVC.mp4', '/tank/tgn252/metadata_annotations/result/S_production_ID_4153808.mp4', '/tank/tgn252/metadata_annotations/result/S_yt-kxWtOXNIsRA_329.mp4', '/tank/tgn252/metadata_annotations/result/R_S_yt-0n0uppNuUus_15.mp4', '/tank/tgn252/metadata_annotations/result/S_ILSVRC2015_train_00371013.mp4', '/tank/tgn252/metadata_annotations/result/R_S_yt-49utbRVtx1U_16.mp4', '/tank/tgn252/metadata_annotations/result/R_S_yt-F1X_vq0Zioc_154.mp4', '/tank/tgn252/metadata_annotations/result/S_yt-E8EDQCPbBeI_196.mp4', '/tank/tgn252/metadata_annotations/result/S_yt-I2n2eo2zoZs_94.mp4', '/tank/tgn252/metadata_annotations/result/S_yt-jUGt_Byqczw_599.mp4', '/tank/tgn252/metadata_annotations/result/R_S_yt-_BvMLZo0MG0_1226.mp4', '/tank/tgn252/metadata_annotations/result/S_yt-3eQHOLBzOqA_100.mp4', '/tank/tgn252/metadata_annotations/result/R_S_yt-PQYnj2BR17I_16.mp4', '/tank/tgn252/metadata_annotations/result/S_ILSVRC2015_train_00001012.mp4', '/tank/tgn252/metadata_annotations/result/R_S_yt-QytEkcDtaQA_9.mp4', '/tank/tgn252/metadata_annotations/result/S_yt-1iB2ofPY1U8_16.mp4', '/tank/tgn252/metadata_annotations/result/R_S_yt-l6WPyKg_3is_154.mp4', '/tank/tgn252/metadata_annotations/result/R_S_yt-kawmL3oVw8c_2.mp4', '/tank/tgn252/metadata_annotations/result/S_yt-V_2XgfjJfeQ_67.mp4', '/tank/tgn252/metadata_annotations/result/S_yt-LdHRVIb4nIE_6.mp4', '/tank/tgn252/metadata_annotations/result/R_S_pexels-ekaterina-bolovtsova-7669220.mp4', '/tank/tgn252/metadata_annotations/result/S_yt-mj82m2mHYG4_6.mp4', '/tank/tgn252/metadata_annotations/result/S_yt-tEzCpMrjOHs_24.mp4', '/tank/tgn252/metadata_annotations/result/S_yt-qE70lj3-A78_228.mp4', '/tank/tgn252/metadata_annotations/result/R_S_yt-2dRSJcaJIXw_32.mp4', '/tank/tgn252/metadata_annotations/result/R_S_production_ID_4820325.mp4', '/tank/tgn252/metadata_annotations/result/S_yt-B7ZRYVhfW2U_52.mp4', '/tank/tgn252/metadata_annotations/result/S_yt-sGckFFOLO30_164.mp4', '/tank/tgn252/metadata_annotations/result/R_S_pexels-ron-lach-8071987.mp4', '/tank/tgn252/metadata_annotations/result/R_S_Pexels_Videos_2795736.mp4', '/tank/tgn252/metadata_annotations/result/R_S_yt-tkUGDrn-XYg_2.mp4', '/tank/tgn252/metadata_annotations/result/S_yt-iO0efV_PV-k_102.mp4', '/tank/tgn252/metadata_annotations/result/R_S_ILSVRC2015_train_00484001.mp4', '/tank/tgn252/metadata_annotations/result/R_S_yt-E2Klz_wBAf8_285.mp4', '/tank/tgn252/metadata_annotations/result/R_S_pexels-koolshooters-7327412_1.mp4', '/tank/tgn252/metadata_annotations/result/S_yt-ThT8utBaywI_68.mp4', '/tank/tgn252/metadata_annotations/result/S_yt-szXWk_X_67Q_10.mp4', '/tank/tgn252/metadata_annotations/result/R_S_yt-MhW2fU45JK8_544.mp4', '/tank/tgn252/metadata_annotations/result/S_yt-sde4IKBgBMw_21.mp4', '/tank/tgn252/metadata_annotations/result/S_yt-PltpRRYmQQk_62.mp4', '/tank/tgn252/metadata_annotations/result/R_S_production_ID_4835060.mp4', '/tank/tgn252/metadata_annotations/result/S_1y-EvnfGO9Y_70.mp4', '/tank/tgn252/metadata_annotations/result/R_S_yt-qxtmtMnUfD0_124.mp4', '/tank/tgn252/metadata_annotations/result/R_S_yt-3R23XwTXpKs_238.mp4', '/tank/tgn252/metadata_annotations/result/S_yt-7i9RoM8w7jM_4.mp4', '/tank/tgn252/metadata_annotations/result/S_yt-bwSRV1Vr21s_435.mp4', '/tank/tgn252/metadata_annotations/result/S_comp_A012_C014_1223PT_v53_SDR_PS_FINAL_20180709_F0F8700_SDR_2K_AVC.mp4', '/tank/tgn252/metadata_annotations/result/R_S_yt-7sD6zc169Xo_77.mp4', '/tank/tgn252/metadata_annotations/result/R_S_wc-PsidKmkEV7Km_14.mp4', '/tank/tgn252/metadata_annotations/result/R_S_hkunxDEshL4_95.mp4', '/tank/tgn252/metadata_annotations/result/R_S_4_D1iUb87uE_15.mp4', '/tank/tgn252/metadata_annotations/result/R_S_yt-n12iRXTksXA_65.mp4', '/tank/tgn252/metadata_annotations/result/R_S_yt-V_2XgfjJfeQ_67.mp4', '/tank/tgn252/metadata_annotations/result/R_S_yt-utYnOeoj2Rw_3.mp4', '/tank/tgn252/metadata_annotations/result/S_yt-Fdv-V--QlR0_117.mp4', '/tank/tgn252/metadata_annotations/result/R_S_yt-uSHBdUi8_V0_24.mp4', '/tank/tgn252/metadata_annotations/result/S_yt-RvdcgC9LFy8_16.mp4', '/tank/tgn252/metadata_annotations/result/S_yt-R0gFQo85cAE_5.mp4', '/tank/tgn252/metadata_annotations/result/S_ILSVRC2015_train_00689000.mp4', '/tank/tgn252/metadata_annotations/result/R_S_pexels-koolshooters-7691440.mp4', '/tank/tgn252/metadata_annotations/result/R_S_yt-Fdv-V--QlR0_117.mp4', '/tank/tgn252/metadata_annotations/result/R_S_yt-uT4MXm0UBJM_64.mp4', '/tank/tgn252/metadata_annotations/result/R_S_yt-dESxu60Cl10_24.mp4', '/tank/tgn252/metadata_annotations/result/S_yt-QXsedpZh800_275.mp4', '/tank/tgn252/metadata_annotations/result/S_yt-vHS71x_O6sY_90.mp4', '/tank/tgn252/metadata_annotations/result/R_S_yt-AbJBxqEYoMg_27.mp4', '/tank/tgn252/metadata_annotations/result/S_yt-rafmq6Ydoc8_15.mp4', '/tank/tgn252/metadata_annotations/result/R_S_comp_GL_G010_C006_PSNK_NOSUN_v12_SDR_PS_FINAL_20180709_SDR_2K_AVC.mp4', '/tank/tgn252/metadata_annotations/result/R_S_Xq0a2BWE3zA_53.mp4', '/tank/tgn252/metadata_annotations/result/R_S_pexels-cottonbro-5780808.mp4', '/tank/tgn252/metadata_annotations/result/S_yt-4r-oovk9JWg_85.mp4', '/tank/tgn252/metadata_annotations/result/R_S_yt-F3hhts3bwWg_25.mp4', '/tank/tgn252/metadata_annotations/result/R_S_yt-hvuC_2YXsTQ_73.mp4', '/tank/tgn252/metadata_annotations/result/S_comp_HK_B005_C011_PSNK_v16_SDR_PS_20180914_SDR_2K_AVC.mp4', '/tank/tgn252/metadata_annotations/result/S_5Bc466bkeA0_35.mp4', '/tank/tgn252/metadata_annotations/result/S_8lrGQK4UBj8_38.mp4', '/tank/tgn252/metadata_annotations/result/S_wc-PsidKmkEV7Km_14.mp4', '/tank/tgn252/metadata_annotations/result/R_S_ILSVRC2015_train_00555002.mp4', '/tank/tgn252/metadata_annotations/result/S_video-6.mp4', '/tank/tgn252/metadata_annotations/result/R_S_yt-SkIJvj6KNOo_33.mp4', '/tank/tgn252/metadata_annotations/result/R_S_bing-www_break_com_video_like-a-cat-catching-a-fly-3131008_12.mp4', '/tank/tgn252/metadata_annotations/result/S_yt-82O1uT8dmv8_12.mp4', '/tank/tgn252/metadata_annotations/result/R_S_yt-P001x88adE4_427.mp4', '/tank/tgn252/metadata_annotations/result/S_CmWAkLISGyE_265.mp4', '/tank/tgn252/metadata_annotations/result/S_yt-GytLOB9Qjro_76.mp4', '/tank/tgn252/metadata_annotations/result/R_S_comp_GMT308_139K_142NC_CARIBBEAN_DAY_v09_SDR_FINAL_22062018_SDR_2K_AVC.mp4', '/tank/tgn252/metadata_annotations/result/S_yt-omUwZYZrWy0_375.mp4', '/tank/tgn252/metadata_annotations/result/S_c5iVM3LI6kI_252.mp4', '/tank/tgn252/metadata_annotations/result/S_yt-IyxCMODHSSE_29.mp4', '/tank/tgn252/metadata_annotations/result/R_S_yt-Snha8C5YOiY_70.mp4', '/tank/tgn252/metadata_annotations/result/R_S_production_ID_4154238.mp4', '/tank/tgn252/metadata_annotations/result/R_S_yt-S6N5FyjSFZE_4.mp4', '/tank/tgn252/metadata_annotations/result/S_yt-c-H45QS0CF4_147.mp4', '/tank/tgn252/metadata_annotations/result/R_S_yt-Ul81y6R9YbE_12.mp4', '/tank/tgn252/metadata_annotations/result/S_SE_A016_C009_SDR_20190717_SDR_2K_AVC.mp4', '/tank/tgn252/metadata_annotations/result/R_S_ILSVRC2015_train_00394000.mp4', '/tank/tgn252/metadata_annotations/result/R_S_BO_A012_C031_SDR_20190726_SDR_2K_AVC.mp4', '/tank/tgn252/metadata_annotations/result/S_yt-YLcmfyfIokU_64.mp4', '/tank/tgn252/metadata_annotations/result/R_S_yt-rB3YVZvA78w_20.mp4', '/tank/tgn252/metadata_annotations/result/S_yt-Ynol6-DKndM_497.mp4', '/tank/tgn252/metadata_annotations/result/S_comp_C004_C003_PS_v01_SDR_PS_20180925_SDR_2K_AVC.mp4', '/tank/tgn252/metadata_annotations/result/R_S_nTA7B2uHaCQ_1.mp4', '/tank/tgn252/metadata_annotations/result/R_S_yt-9CUR6mjzaiY_85.mp4', '/tank/tgn252/metadata_annotations/result/S_yt--jzScB82vKI_90.mp4', '/tank/tgn252/metadata_annotations/result/R_S_yt-x7NWmdlvVIQ_183.mp4', '/tank/tgn252/metadata_annotations/result/S_ILSVRC2015_train_00628000.mp4', '/tank/tgn252/metadata_annotations/result/S_yt-Z1ozMh4szTk_13.mp4', '/tank/tgn252/metadata_annotations/result/R_S_pexels-c-technical-6754008.mp4', '/tank/tgn252/metadata_annotations/result/S_yt-qX2KH8RLnKs_50.mp4', '/tank/tgn252/metadata_annotations/result/S_yt-sPhtPyQM00c_106.mp4', '/tank/tgn252/metadata_annotations/result/S_yt-3HpAmr5BApU_35.mp4', '/tank/tgn252/metadata_annotations/result/R_S_ILSVRC2015_train_00074011.mp4', '/tank/tgn252/metadata_annotations/result/S_yt-H45g6700wbc_159.mp4', '/tank/tgn252/metadata_annotations/result/S_ILSVRC2015_train_00495000.mp4', '/tank/tgn252/metadata_annotations/result/S_g201_TH_804_A001_8_SDR_20191031_SDR_2K_AVC.mp4', '/tank/tgn252/metadata_annotations/result/R_S_ioSkDvwpEaU_35.mp4', '/tank/tgn252/metadata_annotations/result/S_yt-a_awONsLFfE_107.mp4', '/tank/tgn252/metadata_annotations/result/S_yt--7-rH4IBKLE_19.mp4', '/tank/tgn252/metadata_annotations/result/R_S_yt-JDHApyT5ngs_128.mp4', '/tank/tgn252/metadata_annotations/result/S_yt-xBwq6sHHF5M_21.mp4', '/tank/tgn252/metadata_annotations/result/R_S_yt-K_gHa2x2OQA_319.mp4', '/tank/tgn252/metadata_annotations/result/S_ILSVRC2015_train_00518001.mp4', '/tank/tgn252/metadata_annotations/result/R_S_ILSVRC2015_train_00017007.mp4', '/tank/tgn252/metadata_annotations/result/S_yt-9Ow95khYa_M_91.mp4', '/tank/tgn252/metadata_annotations/result/R_S_59eT4XDXNno_25.mp4', '/tank/tgn252/metadata_annotations/result/R_S_ILSVRC2015_train_00565000.mp4', '/tank/tgn252/metadata_annotations/result/R_S_yt-ebajhZwlVJM_32.mp4', '/tank/tgn252/metadata_annotations/result/S_flickr-quinn3411-4569727219_1.mp4', '/tank/tgn252/metadata_annotations/result/R_S_yt-C0iWlRWU21o_5.mp4', '/tank/tgn252/metadata_annotations/result/S_yt-N1EsjM9gD5Q_21.mp4', '/tank/tgn252/metadata_annotations/result/S_yt-xQPKYWDRy2A_491.mp4', '/tank/tgn252/metadata_annotations/result/S_yt-Snha8C5YOiY_26.mp4', '/tank/tgn252/metadata_annotations/result/R_S_yt-sPhtPyQM00c_106.mp4', '/tank/tgn252/metadata_annotations/result/R_S_tIpD52JAIV8_4.mp4', '/tank/tgn252/metadata_annotations/result/R_S_yt--vHa85DHvLU_31.mp4', '/tank/tgn252/metadata_annotations/result/R_S_ILSVRC2015_train_00473001.mp4', '/tank/tgn252/metadata_annotations/result/S_video_copy.mp4', '/tank/tgn252/metadata_annotations/result/R_S_ILSVRC2015_train_00165012.mp4', '/tank/tgn252/metadata_annotations/result/S_yt-0buqUbXVTn8_48.mp4', '/tank/tgn252/metadata_annotations/result/R_S_yt-Ynol6-DKndM_497.mp4', '/tank/tgn252/metadata_annotations/result/R_S_yt-I9uf7kAccFA_229.mp4', '/tank/tgn252/metadata_annotations/result/S_comp_LA_A006_C004_v01_SDR_FINAL_PS_20180730_SDR_2K_AVC.mp4', '/tank/tgn252/metadata_annotations/result/S_yt-9T99N7Cvi_o_112.mp4', '/tank/tgn252/metadata_annotations/result/R_S_yt-BAwvfRmE1LU_79.mp4', '/tank/tgn252/metadata_annotations/result/S_comp_N013_C004_PS_v01_SDR_PS_20180925_F1970F7193_SDR_2K_AVC.mp4', '/tank/tgn252/metadata_annotations/result/S_yt-kP7VNn9QIo4_53.mp4', '/tank/tgn252/metadata_annotations/result/R_S_yt-HQQws1Lp_rQ_10.mp4', '/tank/tgn252/metadata_annotations/result/R_S_yt-G40PW6hfb2c_5.mp4', '/tank/tgn252/metadata_annotations/result/R_S_yt-KQq7vTlXUiQ_173.mp4', '/tank/tgn252/metadata_annotations/result/R_S_pexels-c-technical-6763571.mp4', '/tank/tgn252/metadata_annotations/result/R_S_ILSVRC2015_train_00471000.mp4', '/tank/tgn252/metadata_annotations/result/R_S_yt-GWlwb2QsxIA_48.mp4', '/tank/tgn252/metadata_annotations/result/S_yt-e5ua5Pj86E4_140.mp4', '/tank/tgn252/metadata_annotations/result/S_yt-16eN45838LU_255.mp4', '/tank/tgn252/metadata_annotations/result/R_S_yt-JiOoUOoytos_39.mp4', '/tank/tgn252/metadata_annotations/result/S_yt-xgqx7tH92-c_6.mp4', '/tank/tgn252/metadata_annotations/result/R_S_yt-HwEfWfFJhRo_126.mp4', '/tank/tgn252/metadata_annotations/result/S_yt-vOC7cBvdSw8_11.mp4', '/tank/tgn252/metadata_annotations/result/R_S_yt-t23g0U_hAgg_32.mp4', '/tank/tgn252/metadata_annotations/result/S_ILSVRC2015_train_00682007.mp4', '/tank/tgn252/metadata_annotations/result/S_yt-4sSV4iIs8gQ_55.mp4', '/tank/tgn252/metadata_annotations/result/R_S_yt-TNtO8RPd3iE_25.mp4', '/tank/tgn252/metadata_annotations/result/R_S_yt-aTEGTeQuDWM_93.mp4', '/tank/tgn252/metadata_annotations/result/S_yt-VQtbKGzI9SE_431.mp4', '/tank/tgn252/metadata_annotations/result/R_S_Pexels_Videos_2795737.mp4', '/tank/tgn252/metadata_annotations/result/S_yt-ZzC953ahaxs_195.mp4', '/tank/tgn252/metadata_annotations/result/S_ILSVRC2015_train_00165008.mp4', '/tank/tgn252/metadata_annotations/result/S_video_inspire_oregon_portland_00064.1080-h264.mp4', '/tank/tgn252/metadata_annotations/result/S_yt-z8fEOmzDlD4_21.mp4', '/tank/tgn252/metadata_annotations/result/S_yt-k4B_NtWn41Y_169.mp4', '/tank/tgn252/metadata_annotations/result/S_yt-7VVzNnp36DM_62.mp4', '/tank/tgn252/metadata_annotations/result/S_yt-r5kRl-2lVxc_2.mp4', '/tank/tgn252/metadata_annotations/result/S_yt-26obL-Z5obg_131.mp4', '/tank/tgn252/metadata_annotations/result/R_S_b2-2.mp4', '/tank/tgn252/metadata_annotations/result/S_yt-Ilr77XzakaY_95.mp4', '/tank/tgn252/metadata_annotations/result/S_ILSVRC2015_train_00371012.mp4', '/tank/tgn252/metadata_annotations/result/R_S_production_ID_4510883.mp4', '/tank/tgn252/metadata_annotations/result/S_yt-rlVzHENWufE_61.mp4', '/tank/tgn252/metadata_annotations/result/S_yt-BJsMGxfjrZk_59.mp4', '/tank/tgn252/metadata_annotations/result/R_S_flickr-lamujuri-10653517683_4.mp4', '/tank/tgn252/metadata_annotations/result/R_S_yt-L7UKVgSr0c8_198.mp4', '/tank/tgn252/metadata_annotations/result/R_S_yt-3tsrlES3thg_81.mp4', '/tank/tgn252/metadata_annotations/result/R_S_ILSVRC2015_train_00368000.mp4', '/tank/tgn252/metadata_annotations/result/R_S_yt-ZTAaH5XbtfE_3.mp4', '/tank/tgn252/metadata_annotations/result/R_S_yt-Y-8d31A9JXg_12.mp4', '/tank/tgn252/metadata_annotations/result/R_S_yt-k4B_NtWn41Y_169.mp4', '/tank/tgn252/metadata_annotations/result/R_S_video_inspire_california_vineyard_sierra-mar_sunrise_110.1080-h264.mp4', '/tank/tgn252/metadata_annotations/result/R_S_yt-A-RhzHTz38g_21.mp4', '/tank/tgn252/metadata_annotations/result/R_S_yt-dqcUJzNOzbM_156.mp4', '/tank/tgn252/metadata_annotations/result/R_S_yt-xTxDfoAAFZc_6.mp4', '/tank/tgn252/metadata_annotations/result/R_S_yt-o0YqkYEeszM_7.mp4', '/tank/tgn252/metadata_annotations/result/S_dnLAfffA-kU_53.mp4', '/tank/tgn252/metadata_annotations/result/R_S_yt-B8Sy53C6Pxw_8.mp4', '/tank/tgn252/metadata_annotations/result/R_S_yt--4P7Xab3nPw_304.mp4', '/tank/tgn252/metadata_annotations/result/R_S_video-2_copy.mp4', '/tank/tgn252/metadata_annotations/result/S_yt-YTQXM5ZjRgg_116.mp4', '/tank/tgn252/metadata_annotations/result/S_yt-PreGL81PEP4_61.mp4', '/tank/tgn252/metadata_annotations/result/S_ILSVRC2015_train_00469000.mp4', '/tank/tgn252/metadata_annotations/result/R_S_yt-b7bIulV49DQ_81.mp4', '/tank/tgn252/metadata_annotations/result/R_S_yt-VinOD6g7xEc_135.mp4', '/tank/tgn252/metadata_annotations/result/R_S_yt-wE0cEswyaaM_53.mp4', '/tank/tgn252/metadata_annotations/result/R_S_yt-r4st6Mt4EE8_85.mp4', '/tank/tgn252/metadata_annotations/result/S_ILSVRC2015_train_00497001.mp4', '/tank/tgn252/metadata_annotations/result/S_video_inspire_texas_pecos_foggy-landscape_00018.1080-h264.mp4', '/tank/tgn252/metadata_annotations/result/R_S_10zlWVJ5aRw_5.mp4', '/tank/tgn252/metadata_annotations/result/R_S_yt-sxZ_ONShI7U_75.mp4', '/tank/tgn252/metadata_annotations/result/R_S_ILSVRC2015_train_00373000.mp4', '/tank/tgn252/metadata_annotations/result/S_pexels-anna-tarazevich-6189268.mp4', '/tank/tgn252/metadata_annotations/result/R_S_yt-x0MCtNEv_Ew_35.mp4', '/tank/tgn252/metadata_annotations/result/R_S_production_ID_4428752.mp4', '/tank/tgn252/metadata_annotations/result/R_S_yt-djFogwgoaEk_94.mp4', '/tank/tgn252/metadata_annotations/result/S_yt-V5iQ3MbihnI_103.mp4', '/tank/tgn252/metadata_annotations/result/R_S_wc-yoyQRWvHhC_x_3.mp4', '/tank/tgn252/metadata_annotations/result/R_S_comp_LA_A005_C009_PSNK_ALT_v09_SDR_PS_201809134_SDR_2K_AVC.mp4', '/tank/tgn252/metadata_annotations/result/S_yt-j3aQHA2TVq4_38.mp4', '/tank/tgn252/metadata_annotations/result/R_S_ILSVRC2015_train_00569002.mp4', '/tank/tgn252/metadata_annotations/result/R_S_yt-kkbtZP78JxQ_96.mp4', '/tank/tgn252/metadata_annotations/result/R_S_yt-Gc1p5CnDbDY_22.mp4', '/tank/tgn252/metadata_annotations/result/R_S_comp_GMT312_162NC_139M_1041_AFRICA_NIGHT_v14_SDR_FINAL_20180706_SDR_2K_AVC.mp4', '/tank/tgn252/metadata_annotations/result/R_S_RS_A008_C010_SDR_20191218_SDR_2K_AVC.mp4', '/tank/tgn252/metadata_annotations/result/R_S_yt-bhiGMKSAz2g_370.mp4', '/tank/tgn252/metadata_annotations/result/R_S_video.mp4', '/tank/tgn252/metadata_annotations/result/R_S_yt-9PTQ4U4oPUU_243.mp4', '/tank/tgn252/metadata_annotations/result/S_yt-Mjm5smrurQI_125.mp4', '/tank/tgn252/metadata_annotations/result/R_S_yt-nYi_FfCjepk_74.mp4', '/tank/tgn252/metadata_annotations/result/R_S_yt-w_C-15eJeCQ_191.mp4', '/tank/tgn252/metadata_annotations/result/R_S_yt-IXMtF998XFY_547.mp4', '/tank/tgn252/metadata_annotations/result/R_S_yt-J8E_BpSJMpk_5.mp4', '/tank/tgn252/metadata_annotations/result/S_yt-loe3Rqs8TEM_46.mp4', '/tank/tgn252/metadata_annotations/result/S_yt-2mjHDSH1Yvg_90.mp4', '/tank/tgn252/metadata_annotations/result/R_S_yt-GjFQxAklviE_25.mp4', '/tank/tgn252/metadata_annotations/result/R_S_Oo8otu7cQ20_112.mp4', '/tank/tgn252/metadata_annotations/result/R_S_yt-a0axt7n0GuQ_19.mp4', '/tank/tgn252/metadata_annotations/result/S_yt-5hgLXyLw82w_23.mp4', '/tank/tgn252/metadata_annotations/result/R_S_yt-lEPoNlKWibA_1.mp4', '/tank/tgn252/metadata_annotations/result/S_yt-MIDWkOZcQUs_72.mp4', '/tank/tgn252/metadata_annotations/result/S_yt-RnVxAv3aIoc_20.mp4', '/tank/tgn252/metadata_annotations/result/S_yt-WRBmpC-RxIc_678.mp4', '/tank/tgn252/metadata_annotations/result/R_S_yt-oASqBTM-5fw_73.mp4', '/tank/tgn252/metadata_annotations/result/R_S_g201_TH_803_A001_8_SDR_20191031_SDR_2K_AVC.mp4', '/tank/tgn252/metadata_annotations/result/S_yt-NJP0Hg8Wj5k_1.mp4', '/tank/tgn252/metadata_annotations/result/S_ILSVRC2015_train_00351000.mp4', '/tank/tgn252/metadata_annotations/result/S_yt-FE5srhxadno_73.mp4', '/tank/tgn252/metadata_annotations/result/R_S_yt-NOnR6C2sjpI_97.mp4', '/tank/tgn252/metadata_annotations/result/R_S_pexels-ron-lach-8259631.mp4', '/tank/tgn252/metadata_annotations/result/S_yt-Ol4xuEA8xQc_776.mp4', '/tank/tgn252/metadata_annotations/result/S_yt-JG2OY_7B-gI_537.mp4', '/tank/tgn252/metadata_annotations/result/R_S_yt-g_RCws799LQ_52.mp4', '/tank/tgn252/metadata_annotations/result/R_S_yt-T2Izta7lYZg_111.mp4', '/tank/tgn252/metadata_annotations/result/R_S_yt-0MB_IYX1fgo_44.mp4', '/tank/tgn252/metadata_annotations/result/R_S_yt-bshHX6vWLtA_84.mp4', '/tank/tgn252/metadata_annotations/result/R_S_ILSVRC2015_train_00578000.mp4', '/tank/tgn252/metadata_annotations/result/R_S_yt-cONX-OgVhHU_1821.mp4', '/tank/tgn252/metadata_annotations/result/S_yt-dLTag3L1w94_566.mp4', '/tank/tgn252/metadata_annotations/result/R_S_yt-hWXr5bv2_uA_48.mp4', '/tank/tgn252/metadata_annotations/result/S_yt-e9AZJKNv9ow_359.mp4', '/tank/tgn252/metadata_annotations/result/R_S_ux8Mvi8P16k_168.mp4', '/tank/tgn252/metadata_annotations/result/R_S_yt-rIQoRErqnlI_17.mp4', '/tank/tgn252/metadata_annotations/result/R_S_yt-hHdxZ26SImA_17.mp4', '/tank/tgn252/metadata_annotations/result/R_S_yt-BqJHT4K7Qf8_127.mp4', '/tank/tgn252/metadata_annotations/result/S_yt-T2Izta7lYZg_111.mp4', '/tank/tgn252/metadata_annotations/result/R_S_yt-4rwBpRuHg-c_1308.mp4', '/tank/tgn252/metadata_annotations/result/S_yt-9Fxa53fDUWU_34.mp4', '/tank/tgn252/metadata_annotations/result/S_yt-CNq5mTA8oXY_176.mp4', '/tank/tgn252/metadata_annotations/result/S_ILSVRC2015_train_00560000.mp4', '/tank/tgn252/metadata_annotations/result/R_S_yt-zgkJCgcT1s4_300.mp4', '/tank/tgn252/metadata_annotations/result/R_S_comp_HK_H004_C010_PSNK_v08_SDR_PS_20181009_SDR_2K_AVC.mp4', '/tank/tgn252/metadata_annotations/result/R_S_video-6.mp4', '/tank/tgn252/metadata_annotations/result/R_S_comp_LW_L001_C006_PSNK_DENOISE_v02_SDR_PS_FINAL_20180709_SDR_2K_AVC.mp4', '/tank/tgn252/metadata_annotations/result/R_S_yt-cM5PvgE7aJs_243.mp4', '/tank/tgn252/metadata_annotations/result/R_S_yt-gCKmHV5tdSk_59.mp4', '/tank/tgn252/metadata_annotations/result/S_production_ID_3712945.mp4', '/tank/tgn252/metadata_annotations/result/S_yt-bhiGMKSAz2g_370.mp4', '/tank/tgn252/metadata_annotations/result/R_S_yt-foGMTdxewBI_43.mp4', '/tank/tgn252/metadata_annotations/result/R_S_comp_H007_C003_PS_v01_SDR_PS_20180925_SDR_2K_AVC.mp4', '/tank/tgn252/metadata_annotations/result/S_yt-8vm83GUgYxI_1.mp4', '/tank/tgn252/metadata_annotations/result/R_S_yt-RL1chIcbTPQ_11.mp4', '/tank/tgn252/metadata_annotations/result/R_S_pexels-cottonbro-6788024.mp4', '/tank/tgn252/metadata_annotations/result/R_S_ILSVRC2015_train_00575000.mp4', '/tank/tgn252/metadata_annotations/result/R_S_yt-RNPFV7lgAvE_362.mp4', '/tank/tgn252/metadata_annotations/result/R_S_yt-cjndulbUtRc_51.mp4', '/tank/tgn252/metadata_annotations/result/S_yt-OrTpetjDNKs_31.mp4', '/tank/tgn252/metadata_annotations/result/R_S_c5iVM3LI6kI_252.mp4', '/tank/tgn252/metadata_annotations/result/S_wc-1MzpHfRq1MUK_32.mp4', '/tank/tgn252/metadata_annotations/result/R_S_yt-0EhQYCX_G6E_8.mp4', '/tank/tgn252/metadata_annotations/result/S_yt-fEIplXEqgCc_14.mp4', '/tank/tgn252/metadata_annotations/result/R_S_ILSVRC2015_train_00446000.mp4', '/tank/tgn252/metadata_annotations/result/S_ILSVRC2015_train_00339001.mp4', '/tank/tgn252/metadata_annotations/result/R_S_video_inspire_alabama_montgomery_countryside_00007.1080-h264.mp4', '/tank/tgn252/metadata_annotations/result/S_yt-YOLaQ53ooks_195.mp4', '/tank/tgn252/metadata_annotations/result/R_S_wc-DgBY_btLlgBC_19.mp4', '/tank/tgn252/metadata_annotations/result/R_S_ILSVRC2015_train_00708000.mp4', '/tank/tgn252/metadata_annotations/result/R_S_yt-Dwgpjoikt84_71.mp4', '/tank/tgn252/metadata_annotations/result/R_S_ILSVRC2015_train_00165013.mp4', '/tank/tgn252/metadata_annotations/result/S_comp_A108_C001_v09_SDR_FINAL_22062018_SDR_2K_AVC.mp4', '/tank/tgn252/metadata_annotations/result/S_yt-hyZEDFkh49w_196.mp4', '/tank/tgn252/metadata_annotations/result/R_S_yt-tOOaOzYvtKE_79.mp4', '/tank/tgn252/metadata_annotations/result/S_yt-FhnT_42bV7M_11.mp4', '/tank/tgn252/metadata_annotations/result/R_S_yt-9Fxa53fDUWU_34.mp4', '/tank/tgn252/metadata_annotations/result/R_S_yt-2IN85w8ptmM_51.mp4', '/tank/tgn252/metadata_annotations/result/R_S_yt-K0CzoUy_uIA_22.mp4', '/tank/tgn252/metadata_annotations/result/R_S_yt-a9bnYU0Gnxg_59.mp4', '/tank/tgn252/metadata_annotations/result/R_S_yt-z16pdVTZK1o_3.mp4', '/tank/tgn252/metadata_annotations/result/R_S_yt-LYnwnfi1JJ4_120.mp4', '/tank/tgn252/metadata_annotations/result/R_S_yt-RHPOCG1mII0_138.mp4', '/tank/tgn252/metadata_annotations/result/S_yt-xrWo3lnbshw_80.mp4', '/tank/tgn252/metadata_annotations/result/S_yt-NuZy8Rjk4d0_156.mp4', '/tank/tgn252/metadata_annotations/result/S_yt-R5wOWRtRmrI_36.mp4', '/tank/tgn252/metadata_annotations/result/S_wc-6or3Gl2Fif0m_13.mp4', '/tank/tgn252/metadata_annotations/result/R_S_video_inspire_california_big-sur_landscape_054.1080-h264.mp4', '/tank/tgn252/metadata_annotations/result/R_S_yt-aiwDdJm1ek8_90.mp4', '/tank/tgn252/metadata_annotations/result/S_yt-XbigWWtnGL4_75.mp4', '/tank/tgn252/metadata_annotations/result/S_yt-xroq1qyorNo_113.mp4', '/tank/tgn252/metadata_annotations/result/R_S_ILSVRC2015_train_00743006.mp4', '/tank/tgn252/metadata_annotations/result/S_yt-cjndulbUtRc_51.mp4', '/tank/tgn252/metadata_annotations/result/S_ILSVRC2015_train_00595000.mp4', '/tank/tgn252/metadata_annotations/result/S_yt-SgiTZNjCPCo_19.mp4', '/tank/tgn252/metadata_annotations/result/S_yt-RqWnxg1wT-0_41.mp4', '/tank/tgn252/metadata_annotations/result/S_yt-Rsfo57AlpLA_332.mp4', '/tank/tgn252/metadata_annotations/result/R_S_yt-2mjHDSH1Yvg_90.mp4', '/tank/tgn252/metadata_annotations/result/R_S_yt-loe3Rqs8TEM_46.mp4', '/tank/tgn252/metadata_annotations/result/R_S_yt-W00vtWnXgIk_73.mp4', '/tank/tgn252/metadata_annotations/result/R_S_yt-R6a0Jzo_u1Y_254.mp4', '/tank/tgn252/metadata_annotations/result/S_production_ID_3967181.mp4', '/tank/tgn252/metadata_annotations/result/S_yt-nYi_FfCjepk_74.mp4', '/tank/tgn252/metadata_annotations/result/S_ILSVRC2015_train_00404003.mp4', '/tank/tgn252/metadata_annotations/result/R_S_Pexels_Videos_278654_1.mp4', '/tank/tgn252/metadata_annotations/result/R_S_yt-gmFYJR5ABNs_305.mp4', '/tank/tgn252/metadata_annotations/result/R_S_yt-NuZy8Rjk4d0_156.mp4', '/tank/tgn252/metadata_annotations/result/R_S_ILSVRC2015_train_00465000.mp4', '/tank/tgn252/metadata_annotations/result/R_S_yt-AjyR9--Mx3A_44.mp4', '/tank/tgn252/metadata_annotations/result/R_S_yt-ORE2V_VvOpg_67.mp4', '/tank/tgn252/metadata_annotations/result/R_S_pexels-anastasia-shuraeva-601407_2.mp4', '/tank/tgn252/metadata_annotations/result/R_S_yt-y-boY803u9A_12.mp4', '/tank/tgn252/metadata_annotations/result/S_ILSVRC2015_train_00725000.mp4', '/tank/tgn252/metadata_annotations/result/R_S_nPwtvvPgdNc_39.mp4', '/tank/tgn252/metadata_annotations/result/S_yt-oPq1uvbw-lQ_62.mp4', '/tank/tgn252/metadata_annotations/result/S_yt-ZdXwVfF6T-s_25.mp4', '/tank/tgn252/metadata_annotations/result/S_yt-0MB_IYX1fgo_44.mp4', '/tank/tgn252/metadata_annotations/result/S_yt-_WFwhcmbXXY_51.mp4', '/tank/tgn252/metadata_annotations/result/S_yt-EOspahHAnV4_85.mp4', '/tank/tgn252/metadata_annotations/result/S_yt-RHPOCG1mII0_138.mp4', '/tank/tgn252/metadata_annotations/result/R_S_yt-nQu-PAXBv2g_5.mp4', '/tank/tgn252/metadata_annotations/result/S_comp_GL_G004_C010_PSNK_v04_SDR_PS_FINAL_20180709_SDR_2K_AVC.mp4', '/tank/tgn252/metadata_annotations/result/S_ILSVRC2015_train_00364000.mp4', '/tank/tgn252/metadata_annotations/result/R_S_yt-gmiyqQDGN78_7.mp4', '/tank/tgn252/metadata_annotations/result/S_yt-G65z8p1YNhw_16.mp4', '/tank/tgn252/metadata_annotations/result/S_yt-dj0XQUJos38_14.mp4', '/tank/tgn252/metadata_annotations/result/R_S_yt-F2x6e7e7cAE_70.mp4', '/tank/tgn252/metadata_annotations/result/R_S_yt-SCzpSxzt0TA_46.mp4', '/tank/tgn252/metadata_annotations/result/R_S_wc-_W9iefBXz8bi_23.mp4', '/tank/tgn252/metadata_annotations/result/S_X-D3lUv-atE_376.mp4', '/tank/tgn252/metadata_annotations/result/R_S_yt-9CY7rDYBYUI_40.mp4', '/tank/tgn252/metadata_annotations/result/S_production_ID_4121250.mp4', '/tank/tgn252/metadata_annotations/result/R_S_yt-Dlk44AGz-xM_37.mp4', '/tank/tgn252/metadata_annotations/result/R_S_pexels-sora-shimazaki-5925295.mp4', '/tank/tgn252/metadata_annotations/result/S_yt-0qWYjx341mc_7.mp4', '/tank/tgn252/metadata_annotations/result/S_comp_GMT110_112NC_364D_1054_AURORA_ANTARTICA__COMP_FINAL_v34_PS_SDR_20181107_SDR_2K_AVC.mp4', '/tank/tgn252/metadata_annotations/result/R_S_yt-2l6VKd94eAI_151.mp4', '/tank/tgn252/metadata_annotations/result/S_ILSVRC2015_train_00447000.mp4', '/tank/tgn252/metadata_annotations/result/S_comp_L004_C011_PS_v01_SDR_PS_20180925_SDR_2K_AVC.mp4', '/tank/tgn252/metadata_annotations/result/R_S_ILSVRC2015_train_00521000.mp4', '/tank/tgn252/metadata_annotations/result/S_yt-H5LQq4MPIao_660.mp4', '/tank/tgn252/metadata_annotations/result/S_yt-ZmoUDsP2y40_8.mp4', '/tank/tgn252/metadata_annotations/result/S_yt-sxZ_ONShI7U_75.mp4', '/tank/tgn252/metadata_annotations/result/S_AwPBuHsoXV0_25.mp4', '/tank/tgn252/metadata_annotations/result/R_S_yt-fymgyhmYnMI_557.mp4', '/tank/tgn252/metadata_annotations/result/R_S_comp_A012_C014_1223PT_v53_SDR_PS_FINAL_20180709_F0F8700_SDR_2K_AVC.mp4', '/tank/tgn252/metadata_annotations/result/S_yt-DWsFRl5bXs8_23.mp4', '/tank/tgn252/metadata_annotations/result/S_yt--RhNquKdM0M_1183.mp4', '/tank/tgn252/metadata_annotations/result/S_yt-8y7Xhp2_2e0_168.mp4', '/tank/tgn252/metadata_annotations/result/R_S_pexels-kampus-production-5991896.mp4', '/tank/tgn252/metadata_annotations/result/R_S_yt-XBAU3cq0rZs_150.mp4', '/tank/tgn252/metadata_annotations/result/S_yt-t23g0U_hAgg_32.mp4', '/tank/tgn252/metadata_annotations/result/R_S_yt-BFA07F4L4S0_22.mp4', '/tank/tgn252/metadata_annotations/result/R_S_yt-Fm97IY0Z2LU_79.mp4', '/tank/tgn252/metadata_annotations/result/R_S_yt-vOC7cBvdSw8_11.mp4', '/tank/tgn252/metadata_annotations/result/R_S_yt-o_Hakzj8PRg_2864.mp4', '/tank/tgn252/metadata_annotations/result/S_comp_A013_C012_0122D6_CC_v01_SDR_PS_FINAL_20180709_SDR_2K_AVC.mp4', '/tank/tgn252/metadata_annotations/result/S_ILSVRC2015_train_00219004.mp4', '/tank/tgn252/metadata_annotations/result/S_pexels-yaroslav-shuraev-8091356.mp4', '/tank/tgn252/metadata_annotations/result/S_yt-Pc1ZlCvsPpc_5.mp4', '/tank/tgn252/metadata_annotations/result/R_S_yt-H5LQq4MPIao_660.mp4', '/tank/tgn252/metadata_annotations/result/S_yt-GWlwb2QsxIA_48.mp4', '/tank/tgn252/metadata_annotations/result/R_S_yt-mL7eEdD-PNY_33.mp4', '/tank/tgn252/metadata_annotations/result/R_S_PA_A004_C003_SDR_20190719_SDR_2K_AVC.mp4', '/tank/tgn252/metadata_annotations/result/S_video-9.mp4', '/tank/tgn252/metadata_annotations/result/S_yt-wLylWnZs3z0_27.mp4', '/tank/tgn252/metadata_annotations/result/S_yt-aQfM-NhNSsA_136.mp4', '/tank/tgn252/metadata_annotations/result/R_S_yt-kKRGgUhVRzc_74.mp4', '/tank/tgn252/metadata_annotations/result/S_yt-2l6VKd94eAI_151.mp4', '/tank/tgn252/metadata_annotations/result/R_S_yt-8gCfc-o3pyk_85.mp4', '/tank/tgn252/metadata_annotations/result/R_S_yt-Ilr77XzakaY_95.mp4', '/tank/tgn252/metadata_annotations/result/R_S_yt-Fci3dBzt2T4_223.mp4', '/tank/tgn252/metadata_annotations/result/R_S_yt-mWlx1SIXl5M_850.mp4', '/tank/tgn252/metadata_annotations/result/S_yt-n1snPiGfg0A_45.mp4', '/tank/tgn252/metadata_annotations/result/S_yt-fryIS5Itzig_124.mp4', '/tank/tgn252/metadata_annotations/result/R_S_production_ID_4269182.mp4', '/tank/tgn252/metadata_annotations/result/S_yt-siUaw_L-hrw_116.mp4', '/tank/tgn252/metadata_annotations/result/S_AK_A004_C012_SDR_20191217_SDR_2K_AVC.mp4', '/tank/tgn252/metadata_annotations/result/S_yt-F_Bvwnulib8_35.mp4', '/tank/tgn252/metadata_annotations/result/R_S_I003_C004_SDR_2K_AVC.mp4']\n"
     ]
    }
   ],
   "source": [
    "full_paths = [os.path.join(input_map, video_name) for video_name in video_names]\n",
    "maps = get_dirs_with_subdir(full_paths, 'action_classification')\n",
    "true_dirs = [keys for keys, values in maps.items() if values]\n",
    "print(len(true_dirs))\n",
    "print(len(maps.keys()))\n",
    "print(true_dirs)"
   ]
  },
  {
   "cell_type": "code",
   "execution_count": 5,
   "metadata": {},
   "outputs": [],
   "source": [
    "def find_files(video_name, dir_name, file_type, base_path=\"/tank/tgn252/metadata_annotations/result\"):\n",
    "    \"\"\"\n",
    "    Find all files of a given type in a specified directory (and its subdirectories) for a given video.\n",
    "\n",
    "    Args:\n",
    "        video_name (str): The name of the video.\n",
    "        dir_name (str): The name of the directory to search.\n",
    "        file_type (str): The type of the files to find (e.g., \"csv\" or \"hdf5\").\n",
    "        base_path (str): The base path where the video directories are located.\n",
    "\n",
    "    Returns:\n",
    "        files (list): A list of paths to the files.\n",
    "    \"\"\"\n",
    "    search_path = os.path.join(base_path, video_name, dir_name)\n",
    "    files = glob.glob(os.path.join(search_path, f\"**/*.{file_type}\"), recursive=True)\n",
    "    return files"
   ]
  },
  {
   "cell_type": "code",
   "execution_count": null,
   "metadata": {},
   "outputs": [],
   "source": []
  },
  {
   "cell_type": "code",
   "execution_count": 6,
   "metadata": {},
   "outputs": [],
   "source": [
    "keypoints_map = [\n",
    "        \"nose\", \"left_eye\", \"right_eye\", \"left_ear\", \"right_ear\",\n",
    "        \"left_shoulder\", \"right_shoulder\", \"left_elbow\", \"right_elbow\",\n",
    "        \"left_wrist\", \"right_wrist\", \"left_hip\", \"right_hip\",\n",
    "        \"left_knee\", \"right_knee\", \"left_ankle\", \"right_ankle\",\n",
    "    ]"
   ]
  },
  {
   "cell_type": "code",
   "execution_count": 9,
   "metadata": {},
   "outputs": [],
   "source": [
    "data = {}\n",
    "no_hdf5_data = {}\n",
    "\n",
    "for video_name in true_dirs:\n",
    "    video_data = {}\n",
    "    # Load depth map from HDF5 file\n",
    "    hdf5_files = find_files(video_name, 'keypoints', 'hdf5')\n",
    "    if hdf5_files:\n",
    "        keypoints_map = load_keypoints_from_hdf5(hdf5_files[0])\n",
    "        video_data[\"keypoints\"] = keypoints_map\n",
    "\n",
    "    # Find CSV file in \"captioning\" subdirectory\n",
    "    action_csv = find_files(video_name, 'action_classification', 'csv')\n",
    "    if action_csv:\n",
    "        actions_df = pd.read_csv(action_csv[0]) \n",
    "        # Extract the first set of predicted classes and their corresponding values\n",
    "        pred_classes = actions_df[\"pred_class\"].iloc[0]\n",
    "        pred_values = actions_df[\"pred_value\"].iloc[0]\n",
    "        video_data[\"pred_classes\"] = pred_classes\n",
    "        video_data[\"pred_values\"] = pred_values    \n",
    "    else:\n",
    "        print(f\"No CSV file found in action_class directory for video {video_name}\")\n",
    "        continue  # Skip to the next video if no caption is found\n",
    "\n",
    "    # Only add the video to the dictionary if it has both a depth map and a caption\n",
    "    if \"keypoints\" in video_data and \"pred_classes\" in video_data:\n",
    "        data[video_name] = video_data\n",
    "    else:\n",
    "        no_hdf5_data[video_name] = video_data\n",
    "\n",
    "print(len(data.keys()))\n",
    "print(len(no_hdf5_data))"
   ]
  },
  {
   "cell_type": "code",
   "execution_count": null,
   "metadata": {},
   "outputs": [],
   "source": [
    "model = api.load(\"glove-wiki-gigaword-100\")\n",
    "embedding_vector_size = 100\n"
   ]
  },
  {
   "cell_type": "code",
   "execution_count": null,
   "metadata": {},
   "outputs": [],
   "source": [
    "keypoints_present = {}\n",
    "\n",
    "for video in data:\n",
    "    keypoints_counter = [0]*17  # Initialize a counter for each keypoint\n",
    "    for frame in data[video]['keypoints']:\n",
    "        if frame['keypoints_scores'].size > 0:\n",
    "            # Check if each keypoint_score is greater than or equal to 5\n",
    "            for person_scores in frame['keypoints_scores']:\n",
    "                for i, score in enumerate(person_scores):\n",
    "                    if score >= 5:\n",
    "                        keypoints_counter[i] += 1\n",
    "    # Determine if each keypoint is present (occurs more than 50 frames)\n",
    "    keypoints_present[video] = [1 if count > 50 else 0 for count in keypoints_counter]\n",
    "\n",
    "print(keypoints_present)"
   ]
  },
  {
   "cell_type": "code",
   "execution_count": null,
   "metadata": {},
   "outputs": [],
   "source": [
    "# Initialize lists to store the embeddings, keypoints presence information, and video names\n",
    "embeddings_list = []\n",
    "keypoints_list = []\n",
    "video_names = []\n",
    "\n",
    "for video in data:\n",
    "    # Add the embeddings for the video to the embeddings list\n",
    "    embeddings_list.append(data[video][\"embeddings\"])\n",
    "    # Add the keypoints presence information for the video to the keypoints list\n",
    "    keypoints_list.append(keypoints_present[video])\n",
    "    # Add the video name to the video names list\n",
    "    video_names.append(video)\n",
    "\n",
    "# Convert the lists to numpy arrays\n",
    "embeddings_matrix = np.array(embeddings_list)\n",
    "keypoints_matrix = np.array(keypoints_list)"
   ]
  },
  {
   "cell_type": "code",
   "execution_count": null,
   "metadata": {},
   "outputs": [],
   "source": [
    "mean_kp = np.mean(keypoints_matrix)\n",
    "std_kp = np.std(keypoints_matrix)\n",
    "\n",
    "print(f\"Mean of keypoints: {mean_kp}\")\n",
    "print(f\"Standard deviation of keypoints: {std_kp}\")"
   ]
  },
  {
   "cell_type": "code",
   "execution_count": null,
   "metadata": {},
   "outputs": [],
   "source": [
    "# Calculate the mean and standard deviation of the embeddings\n",
    "mean_embeddings = np.mean(embeddings_matrix)\n",
    "std_embeddings = np.std(embeddings_matrix)\n",
    "\n",
    "print(f\"Mean of embeddings: {mean_embeddings}\")\n",
    "print(f\"Standard deviation of embeddings: {std_embeddings}\")"
   ]
  },
  {
   "cell_type": "code",
   "execution_count": null,
   "metadata": {},
   "outputs": [],
   "source": [
    "print(embeddings_matrix.shape, keypoints_matrix.shape)"
   ]
  },
  {
   "cell_type": "code",
   "execution_count": null,
   "metadata": {},
   "outputs": [],
   "source": [
    "import numpy as np\n",
    "from sklearn.cross_decomposition import CCA\n",
    "\n",
    "# Assuming 'X' is your embeddings matrix and 'Y' is your keypoints matrix\n",
    "cca = CCA(n_components=min(embeddings_matrix.shape[1], keypoints_matrix.shape[1]))\n",
    "cca.fit(embeddings_matrix, keypoints_matrix)\n",
    "\n",
    "# Transforming the data based on the CCA fit\n",
    "X_c, Y_c = cca.transform(embeddings_matrix, keypoints_matrix)\n"
   ]
  },
  {
   "cell_type": "code",
   "execution_count": null,
   "metadata": {},
   "outputs": [],
   "source": [
    "X = embeddings_matrix\n",
    "Y = keypoints_matrix"
   ]
  },
  {
   "cell_type": "code",
   "execution_count": null,
   "metadata": {},
   "outputs": [],
   "source": [
    "import numpy as np\n",
    "import matplotlib.pyplot as plt\n",
    "from sklearn.cross_decomposition import CCA\n",
    "\n",
    "# Assuming 'X' is your embeddings matrix and 'Y' is your keypoints matrix\n",
    "cca = CCA(n_components=min(X.shape[1], Y.shape[1]))\n",
    "cca.fit(X, Y)\n",
    "\n",
    "# Transform the datasets\n",
    "X_c, Y_c = cca.transform(X, Y)\n",
    "\n",
    "# Display canonical correlations\n",
    "canonical_correlations = np.corrcoef(X_c.T, Y_c.T).diagonal(offset=X_c.shape[1])\n",
    "\n",
    "\n",
    "# Loadings: Correlation of original variables with canonical variables\n",
    "loadings_X = np.corrcoef(X.T, X_c.T)[:X.shape[1], X.shape[1]:]\n",
    "loadings_Y = np.corrcoef(Y.T, Y_c.T)[:Y.shape[1], Y.shape[1]:]\n",
    "\n",
    "# Visualize the first pair of canonical variables\n",
    "plt.scatter(X_c[:, 0], Y_c[:, 0])\n",
    "plt.xlabel('First Canonical Variable from Embeddings')\n",
    "plt.ylabel('First Canonical Variable from Keypoints')\n",
    "plt.title('Canonical Correlation Analysis - First Pair of Canonical Variables')\n",
    "plt.show()\n",
    "\n",
    "fig, axs = plt.subplots(2, 1, figsize=(8, 10))\n",
    "\n",
    "# Plot heatmap of loadings for embeddings\n",
    "axs[0].imshow(loadings_X, cmap='coolwarm', aspect='auto')\n",
    "axs[0].set_xticks(range(loadings_X.shape[1]))\n",
    "axs[0].set_yticks(range(loadings_X.shape[0]))\n",
    "axs[0].set_xticklabels(range(1, loadings_X.shape[1]+1))\n",
    "axs[0].set_yticklabels(range(1, loadings_X.shape[0]+1))\n",
    "axs[0].set_xlabel('Canonical Variables')\n",
    "axs[0].set_ylabel('Embeddings Variables')\n",
    "axs[0].set_title('Loadings for Embeddings')\n",
    "\n",
    "# Plot heatmap of loadings for keypoints\n",
    "axs[1].imshow(loadings_Y, cmap='coolwarm', aspect='auto')\n",
    "axs[1].set_xticks(range(loadings_Y.shape[1]))\n",
    "axs[1].set_yticks(range(loadings_Y.shape[0]))\n",
    "axs[1].set_xticklabels(range(1, loadings_Y.shape[1]+1))\n",
    "axs[1].set_yticklabels(range(1, loadings_Y.shape[0]+1))\n",
    "axs[1].set_xlabel('Canonical Variables')\n",
    "axs[1].set_ylabel('Keypoints Variables')\n",
    "axs[1].set_title('Loadings for Keypoints')\n",
    "\n",
    "plt.tight_layout()\n",
    "plt.show()\n",
    "fig, axs = plt.subplots(3, 1, figsize=(8, 12))\n",
    "\n",
    "for i in range(3):\n",
    "    axs[i].scatter(X_c[:, i], Y_c[:, i])\n",
    "    axs[i].set_xlabel(f'Canonical Variable {i+1} from Embeddings')\n",
    "    axs[i].set_ylabel(f'Canonical Variable {i+1} from Keypoints')\n",
    "    axs[i].set_title(f'Canonical Correlation Analysis - Pair {i+1} of Canonical Variables')\n",
    "\n",
    "plt.tight_layout()\n",
    "plt.show()\n",
    "\n",
    "\n",
    "\n"
   ]
  },
  {
   "cell_type": "code",
   "execution_count": null,
   "metadata": {},
   "outputs": [],
   "source": []
  },
  {
   "cell_type": "code",
   "execution_count": null,
   "metadata": {},
   "outputs": [],
   "source": [
    "from sklearn.cluster import KMeans\n",
    "combined_canonical_vars = np.concatenate((X_c, Y_c), axis=1)\n",
    "k = 5  # or another number based on your analysis\n",
    "kmeans = KMeans(n_clusters=k, random_state=0).fit(combined_canonical_vars)\n",
    "labels = kmeans.labels_"
   ]
  },
  {
   "cell_type": "code",
   "execution_count": null,
   "metadata": {},
   "outputs": [],
   "source": [
    "import matplotlib.pyplot as plt\n",
    "\n",
    "plt.scatter(X_c[:, 0], X_c[:, 1], c=labels, cmap='viridis')  # Using X_c for plotting\n",
    "plt.xlabel('First Canonical Variable of Actions')\n",
    "plt.ylabel('Second Canonical Variable of Actions')\n",
    "plt.title('Cluster Diagram of Actions and Keypoints')\n",
    "plt.colorbar(label='Cluster Label')\n",
    "plt.show()"
   ]
  },
  {
   "cell_type": "code",
   "execution_count": null,
   "metadata": {},
   "outputs": [],
   "source": [
    "# Assume 'labels' contains the cluster labels for each video\n",
    "clustered_data = {\n",
    "    'Video Name': video_names,\n",
    "    'Cluster Label': labels\n",
    "}\n",
    "\n",
    "# Convert to DataFrame\n",
    "clustered_df = pd.DataFrame(clustered_data)\n"
   ]
  },
  {
   "cell_type": "code",
   "execution_count": null,
   "metadata": {},
   "outputs": [],
   "source": [
    "# Convert the original embeddings and keypoints data to DataFrames\n",
    "embeddings_df = pd.DataFrame(embeddings_matrix, columns=[f'Embedding_{i}' for i in range(embeddings_matrix.shape[1])])\n",
    "keypoints_df = pd.DataFrame(keypoints_matrix, columns=[f'Keypoint_{i}' for i in range(keypoints_matrix.shape[1])])\n",
    "\n",
    "# Add video names to these DataFrames for merging\n",
    "embeddings_df['Video Name'] = video_names\n",
    "keypoints_df['Video Name'] = video_names\n",
    "\n",
    "# Merge all data into a single DataFrame\n",
    "full_data_df = clustered_df.merge(embeddings_df, on='Video Name').merge(keypoints_df, on='Video Name')\n"
   ]
  },
  {
   "cell_type": "code",
   "execution_count": null,
   "metadata": {},
   "outputs": [],
   "source": [
    "for i in range(k):  # Assuming 'k' is the number of clusters\n",
    "    cluster_i_data = full_data_df[full_data_df['Cluster Label'] == i]\n",
    "    \n",
    "    # Calculate the mean of embeddings for the cluster\n",
    "    mean_embeddings = cluster_i_data.loc[:, 'Embedding_0':'Embedding_99'].mean()\n",
    "    \n",
    "    # Calculate the mean of keypoints presence for the cluster\n",
    "    mean_keypoints = cluster_i_data.loc[:, 'Keypoint_0':'Keypoint_16'].mean()\n",
    "    \n",
    "    print(f\"Cluster {i} average embeddings:\\n{mean_embeddings}\")\n",
    "    print(f\"Cluster {i} average keypoints presence:\\n{mean_keypoints}\")\n"
   ]
  },
  {
   "cell_type": "code",
   "execution_count": null,
   "metadata": {},
   "outputs": [],
   "source": [
    "import seaborn as sns\n",
    "\n",
    "# Visualize the mean embeddings for each cluster\n",
    "for i in range(k):\n",
    "    plt.figure(figsize=(10, 6))\n",
    "    mean_embeddings = full_data_df[full_data_df['Cluster Label'] == i].loc[:, 'Embedding_0':'Embedding_99'].mean()\n",
    "    sns.barplot(x=mean_embeddings.index, y=mean_embeddings.values)\n",
    "    plt.title(f'Cluster {i} Average Embeddings')\n",
    "    plt.xticks(rotation=45)\n",
    "    plt.show()\n",
    "\n",
    "    # Visualize the mean keypoints presence for each cluster\n",
    "    plt.figure(figsize=(10, 6))\n",
    "    mean_keypoints = full_data_df[full_data_df['Cluster Label'] == i].loc[:, 'Keypoint_0':'Keypoint_16'].mean()\n",
    "    sns.barplot(x=mean_keypoints.index, y=mean_keypoints.values)\n",
    "    plt.title(f'Cluster {i} Average Keypoints Presence')\n",
    "    plt.xticks(rotation=45)\n",
    "    plt.show()\n"
   ]
  },
  {
   "cell_type": "code",
   "execution_count": null,
   "metadata": {},
   "outputs": [],
   "source": [
    "from sklearn.cluster import KMeans\n",
    "\n",
    "# Assuming combined_canonical_vars is your combined CCA result\n",
    "k = 5  # The number of clusters\n",
    "kmeans = KMeans(n_clusters=k, random_state=0).fit(combined_canonical_vars)\n"
   ]
  },
  {
   "cell_type": "code",
   "execution_count": null,
   "metadata": {},
   "outputs": [],
   "source": [
    "# Recalculate centroids if needed\n",
    "kmeans_embeddings = KMeans(n_clusters=k, random_state=0).fit(embeddings_matrix)\n",
    "centroids_embeddings = kmeans_embeddings.cluster_centers_\n",
    "\n",
    "# Find the closest words for each centroid\n",
    "closest_words_per_cluster = {}\n",
    "for i, centroid in enumerate(centroids_embeddings):\n",
    "    if centroid.shape[0] == 100:  # Ensure centroid is 100-dimensional\n",
    "        closest_words = model.similar_by_vector(centroid, topn=5)\n",
    "        closest_words_per_cluster[i] = [word for word, _ in closest_words]\n",
    "    else:\n",
    "        print(f\"Centroid {i} is not in the correct dimensional space.\")\n"
   ]
  },
  {
   "cell_type": "code",
   "execution_count": null,
   "metadata": {},
   "outputs": [],
   "source": [
    "print(closest_words_per_cluster)"
   ]
  },
  {
   "cell_type": "markdown",
   "metadata": {},
   "source": []
  },
  {
   "cell_type": "code",
   "execution_count": null,
   "metadata": {},
   "outputs": [],
   "source": [
    "top_keypoints_per_cluster = {}\n",
    "\n",
    "for i in range(k):  # 'k' is the number of clusters\n",
    "    # Filter the DataFrame for the current cluster\n",
    "    cluster_data = full_data_df[full_data_df['Cluster Label'] == i]\n",
    "    \n",
    "    # Calculate the mean for keypoints in this cluster\n",
    "    mean_keypoints = cluster_data.loc[:, 'Keypoint_0':'Keypoint_16'].mean()\n",
    "\n",
    "    # Sort the keypoints by their mean and get the top 5\n",
    "    top_keypoints = mean_keypoints.sort_values(ascending=False).head(8)\n",
    "    top_keypoints_per_cluster[i] = top_keypoints\n"
   ]
  },
  {
   "cell_type": "code",
   "execution_count": null,
   "metadata": {},
   "outputs": [],
   "source": [
    "keypoints_map = [\n",
    "    \"nose\", \"left_eye\", \"right_eye\", \"left_ear\", \"right_ear\",\n",
    "    \"left_shoulder\", \"right_shoulder\", \"left_elbow\", \"right_elbow\",\n",
    "    \"left_wrist\", \"right_wrist\", \"left_hip\", \"right_hip\",\n",
    "    \"left_knee\", \"right_knee\", \"left_ankle\", \"right_ankle\"]\n",
    "\n",
    "for cluster, keypoints in top_keypoints_per_cluster.items():\n",
    "    if cluster == 0:\n",
    "        print(f\"Cluster {cluster} top keypoints:\")\n",
    "        mapped_keypoints = keypoints.rename(index=lambda x: keypoints_map[int(x.split('_')[1])])\n",
    "        print(mapped_keypoints)\n",
    "        print()"
   ]
  },
  {
   "cell_type": "code",
   "execution_count": null,
   "metadata": {},
   "outputs": [],
   "source": [
    "cluster_counts = full_data_df['Cluster Label'].value_counts()\n",
    "print(cluster_counts)\n"
   ]
  },
  {
   "cell_type": "code",
   "execution_count": null,
   "metadata": {},
   "outputs": [],
   "source": [
    "videos_in_clusters = {}\n",
    "\n",
    "for i in range(k):  # 'k' is the number of clusters\n",
    "    # Get the video names for the current cluster\n",
    "    videos = full_data_df[full_data_df['Cluster Label'] == i]['Video Name'].tolist()\n",
    "    videos_in_clusters[i] = videos"
   ]
  },
  {
   "cell_type": "code",
   "execution_count": null,
   "metadata": {},
   "outputs": [],
   "source": [
    "for cluster, videos in videos_in_clusters.items():\n",
    "    print(f\"Cluster {cluster} videos:\")\n",
    "    print(videos)\n",
    "    print()"
   ]
  },
  {
   "cell_type": "code",
   "execution_count": null,
   "metadata": {},
   "outputs": [],
   "source": []
  },
  {
   "cell_type": "code",
   "execution_count": null,
   "metadata": {},
   "outputs": [],
   "source": [
    "import numpy as np\n",
    "from sklearn.cluster import KMeans\n",
    "import matplotlib.pyplot as plt\n",
    "\n",
    "# Assuming embeddings is a (n_videos, 100) matrix and keypoints is a (n_videos, 17) matrix\n",
    "\n",
    "# Concatenate the embeddings and keypoints along the second axis (columns)\n",
    "features = np.concatenate((embeddings_matrix, keypoints_matrix), axis=1)\n",
    "\n",
    "# Use the elbow method to find the optimal number of clusters\n",
    "distortions = []\n",
    "K = range(1,20)\n",
    "for k in K:\n",
    "    kmeanModel = KMeans(n_clusters=k)\n",
    "    kmeanModel.fit(features)\n",
    "    distortions.append(kmeanModel.inertia_)\n",
    "\n",
    "plt.figure(figsize=(20,8))\n",
    "plt.plot(K, distortions, 'bx-')\n",
    "plt.xlabel('k')\n",
    "plt.ylabel('Distortion')\n",
    "plt.title('The Elbow Method showing the optimal k')\n",
    "plt.show()"
   ]
  },
  {
   "cell_type": "code",
   "execution_count": null,
   "metadata": {},
   "outputs": [],
   "source": [
    "from sklearn.metrics import silhouette_score\n",
    "\n",
    "silhouette_scores = []\n",
    "for i in range(2, 20):  # Silhouette score is not defined for k=1\n",
    "    kmeans = KMeans(n_clusters=i, random_state=0).fit(features)\n",
    "    score = silhouette_score((features), kmeans.labels_)\n",
    "    silhouette_scores.append(score)\n",
    "\n",
    "plt.plot(range(2, 20), silhouette_scores)\n",
    "plt.title('Silhouette Score Method')\n",
    "plt.xlabel('Number of clusters')\n",
    "plt.ylabel('Silhouette Score')\n",
    "plt.show()\n"
   ]
  },
  {
   "cell_type": "code",
   "execution_count": null,
   "metadata": {},
   "outputs": [],
   "source": [
    "from sklearn.metrics import davies_bouldin_score\n",
    "\n",
    "db_scores = []\n",
    "for i in range(2, 20):\n",
    "    kmeans = KMeans(n_clusters=i, random_state=0).fit(features)\n",
    "    score = davies_bouldin_score(features, kmeans.labels_)\n",
    "    db_scores.append(score)\n",
    "\n",
    "# Plot Davies-Bouldin Scores, aiming for a lower score\n",
    "plt.plot(range(2, 20), db_scores)\n",
    "plt.title('Davies-Bouldin Index')\n",
    "plt.xlabel('Number of clusters')\n",
    "plt.ylabel('DB Index')\n",
    "plt.show()\n"
   ]
  },
  {
   "cell_type": "code",
   "execution_count": null,
   "metadata": {},
   "outputs": [],
   "source": [
    "from sklearn.cluster import DBSCAN\n",
    "\n",
    "# Assuming features is a (n_videos, 117) matrix that is the concatenation of embeddings and keypoints\n",
    "print(features.shape)\n",
    "# Apply DBSCAN\n",
    "dbscan = DBSCAN(eps=5, min_samples=3)\n",
    "clusters = dbscan.fit_predict(features)\n",
    "\n",
    "# clusters is an array where each element is the cluster number of the corresponding video.\n",
    "# -1 indicates that the video is an outlier and not part of any cluster.\n",
    "print(clusters)"
   ]
  },
  {
   "cell_type": "code",
   "execution_count": null,
   "metadata": {},
   "outputs": [],
   "source": [
    "from sklearn.cluster import KMeans\n",
    "combined_canonical_vars = np.concatenate((X_c, Y_c), axis=1)\n",
    "k = 14  # or another number based on your analysis\n",
    "kmeans = KMeans(n_clusters=k, random_state=0).fit(combined_canonical_vars)\n",
    "labels = kmeans.labels_\n",
    "\n",
    "import matplotlib.pyplot as plt\n",
    "\n",
    "plt.scatter(X_c[:, 0], X_c[:, 1], c=labels, cmap='viridis')  # Using X_c for plotting\n",
    "plt.xlabel('First Canonical Variable of Actions')\n",
    "plt.ylabel('Second Canonical Variable of Actions')\n",
    "plt.title('Cluster Diagram of Actions and Keypoints')\n",
    "plt.colorbar(label='Cluster Label')\n",
    "plt.show()\n",
    "# Assume 'labels' contains the cluster labels for each video\n",
    "clustered_data = {\n",
    "    'Video Name': video_names,\n",
    "    'Cluster Label': labels\n",
    "}\n",
    "\n",
    "# Convert to DataFrame\n",
    "clustered_df = pd.DataFrame(clustered_data)\n",
    "\n",
    "# Convert the original embeddings and keypoints data to DataFrames\n",
    "embeddings_df = pd.DataFrame(embeddings_matrix, columns=[f'Embedding_{i}' for i in range(embeddings_matrix.shape[1])])\n",
    "keypoints_df = pd.DataFrame(keypoints_matrix, columns=[f'Keypoint_{i}' for i in range(keypoints_matrix.shape[1])])\n",
    "\n",
    "# Add video names to these DataFrames for merging\n",
    "embeddings_df['Video Name'] = video_names\n",
    "keypoints_df['Video Name'] = video_names\n",
    "\n",
    "# Merge all data into a single DataFrame\n",
    "full_data_df = clustered_df.merge(embeddings_df, on='Video Name').merge(keypoints_df, on='Video Name')\n",
    "\n",
    "for i in range(k):  # Assuming 'k' is the number of clusters\n",
    "    cluster_i_data = full_data_df[full_data_df['Cluster Label'] == i]\n",
    "    \n",
    "    # Calculate the mean of embeddings for the cluster\n",
    "    mean_embeddings = cluster_i_data.loc[:, 'Embedding_0':'Embedding_99'].mean()\n",
    "    \n",
    "    # Calculate the mean of keypoints presence for the cluster\n",
    "    mean_keypoints = cluster_i_data.loc[:, 'Keypoint_0':'Keypoint_16'].mean()\n",
    "    \n",
    "    print(f\"Cluster {i} average embeddings:\\n{mean_embeddings}\")\n",
    "    print(f\"Cluster {i} average keypoints presence:\\n{mean_keypoints}\")\n",
    "\n",
    "\n",
    "import seaborn as sns\n",
    "\n",
    "# Visualize the mean embeddings for each cluster\n",
    "for i in range(k):\n",
    "    plt.figure(figsize=(10, 6))\n",
    "    mean_embeddings = full_data_df[full_data_df['Cluster Label'] == i].loc[:, 'Embedding_0':'Embedding_99'].mean()\n",
    "    sns.barplot(x=mean_embeddings.index, y=mean_embeddings.values)\n",
    "    plt.title(f'Cluster {i} Average Embeddings')\n",
    "    plt.xticks(rotation=45)\n",
    "    plt.show()\n",
    "\n",
    "    # Visualize the mean keypoints presence for each cluster\n",
    "    plt.figure(figsize=(10, 6))\n",
    "    mean_keypoints = full_data_df[full_data_df['Cluster Label'] == i].loc[:, 'Keypoint_0':'Keypoint_16'].mean()\n",
    "    sns.barplot(x=mean_keypoints.index, y=mean_keypoints.values)\n",
    "    plt.title(f'Cluster {i} Average Keypoints Presence')\n",
    "    plt.xticks(rotation=45)\n",
    "    plt.show()\n",
    "# Recalculate centroids if needed\n",
    "kmeans_embeddings = KMeans(n_clusters=k, random_state=0).fit(embeddings_matrix)\n",
    "centroids_embeddings = kmeans_embeddings.cluster_centers_\n",
    "\n",
    "# Find the closest words for each centroid\n",
    "closest_words_per_cluster = {}\n",
    "for i, centroid in enumerate(centroids_embeddings):\n",
    "    if centroid.shape[0] == 100:  # Ensure centroid is 100-dimensional\n",
    "        closest_words = model.similar_by_vector(centroid, topn=5)\n",
    "        closest_words_per_cluster[i] = [word for word, _ in closest_words]\n",
    "    else:\n",
    "        print(f\"Centroid {i} is not in the correct dimensional space.\")\n",
    "\n",
    "print(closest_words_per_cluster)"
   ]
  },
  {
   "cell_type": "code",
   "execution_count": null,
   "metadata": {},
   "outputs": [],
   "source": [
    "# Assuming keypoints_map is a list of keypoint names\n",
    "keypoints_map = ['nose', 'leftEye', 'rightEye', 'leftEar', 'rightEar', 'leftShoulder', 'rightShoulder', 'leftElbow', 'rightElbow', 'leftWrist', 'rightWrist', 'leftHip', 'rightHip', 'leftKnee', 'rightKnee', 'leftAnkle', 'rightAnkle']\n",
    "\n",
    "negative_scores = {}\n",
    "\n",
    "for frame_number, frame in enumerate(single_sample_low_keypoints):\n",
    "    # Get the indices of keypoints_scores that are less than 0\n",
    "    person_indices, keypoint_indices = np.where(frame['keypoints_scores'] < 0)\n",
    "    # For each person index, get the corresponding keypoint indices and add them to the dictionary\n",
    "    for person_index in set(person_indices):\n",
    "        if frame_number not in negative_scores:\n",
    "            negative_scores[frame_number] = []\n",
    "        # Map the keypoint indices to keypoint names\n",
    "        negative_keypoints = [keypoints_map[index] for index in keypoint_indices[person_indices == person_index]]\n",
    "        negative_scores[frame_number].append(('person ' + str(person_index), negative_keypoints))\n",
    "\n",
    "print(negative_scores)"
   ]
  },
  {
   "cell_type": "code",
   "execution_count": null,
   "metadata": {},
   "outputs": [],
   "source": [
    "import numpy as np\n",
    "\n",
    "# Dictionary to store the results\n",
    "results = {}\n",
    "\n",
    "for video_name in videos_with_consistent_negative_values:\n",
    "# Iterate over the videos with consistent negative values\n",
    "    video_data = data[video_name]\n",
    "    for frame in video_data['keypoints']:\n",
    "        # Initialize a dictionary to store the indices of keypoints with negative values for each person\n",
    "        negative_keypoints = {i: set(range(17)) for i in range(frame['keypoints_scores'].shape[0])}\n",
    "        # Get the indices of keypoints with non-negative values for each person in the current frame\n",
    "        non_negative_keypoints = np.where(frame['keypoints_scores'] >= 0)\n",
    "        # Remove these indices from negative_keypoints\n",
    "        for person_index, keypoint_index in zip(*non_negative_keypoints):\n",
    "            negative_keypoints[person_index] -= {keypoint_index}\n",
    "        # If negative_keypoints for all persons are empty, there are no keypoints with negative values in all frames, so break the loop\n",
    "        if all(not keypoints for keypoints in negative_keypoints.values()):\n",
    "            break\n",
    "    # If negative_keypoints for any person is not empty after checking all frames, add the video name and the negative keypoints to the dictionary\n",
    "    if any(keypoints for keypoints in negative_keypoints.values()):\n",
    "        results[video_name] = {person: keypoints for person, keypoints in negative_keypoints.items() if keypoints}\n",
    "\n",
    "print(results)"
   ]
  },
  {
   "cell_type": "code",
   "execution_count": null,
   "metadata": {},
   "outputs": [],
   "source": [
    "videos_with_three_consecutive_empty_frames = []\n",
    "\n",
    "for video_name, values in data.items():\n",
    "    empty_frame_count = 0\n",
    "    for frame in values['keypoints']:\n",
    "        # Check if there are no persons detected in the current frame\n",
    "        if len(frame['boxes']) == 0:\n",
    "            empty_frame_count += 1\n",
    "            # If there are three consecutive frames with no persons, break the loop and move on to the next video\n",
    "            if empty_frame_count == 3:\n",
    "                videos_with_three_consecutive_empty_frames.append(video_name)\n",
    "                break\n",
    "        else:\n",
    "            empty_frame_count = 0\n",
    "\n",
    "print(videos_with_three_consecutive_empty_frames)\n",
    "len(videos_with_three_consecutive_empty_frames)"
   ]
  },
  {
   "cell_type": "code",
   "execution_count": null,
   "metadata": {},
   "outputs": [],
   "source": [
    "for video in videos_with_three_consecutive_empty_frames:\n",
    "    all_scores = []\n",
    "    present_scores = []\n",
    "    empty_frames = 0\n",
    "    for frame in data[video]['keypoints']:\n",
    "        if np.array(frame['keypoints_scores']).size > 0:\n",
    "            # Flatten the keypoints_scores and extend both all_scores and present_scores\n",
    "            flattened_scores = np.array(frame['keypoints_scores']).flatten()\n",
    "            all_scores.extend(flattened_scores)\n",
    "            present_scores.extend(flattened_scores)\n",
    "        else:\n",
    "            # Add a penalty of -2 for each keypoint when keypoints_scores is empty\n",
    "            all_scores.extend([-5]*17)\n",
    "            empty_frames += 1\n",
    "    avg_all_scores = np.mean(all_scores)\n",
    "    avg_present_scores = np.mean(present_scores) if present_scores else \"No keypoints_scores present\"\n",
    "    print(f\"Video {video} - Average keypoints_scores (penalizing): {avg_all_scores}, Average keypoints_scores (present): {avg_present_scores}, Frames without predictions: {empty_frames}\")"
   ]
  },
  {
   "cell_type": "code",
   "execution_count": null,
   "metadata": {},
   "outputs": [],
   "source": [
    "for video in videos_with_three_consecutive_empty_frames:\n",
    "    all_scores = []\n",
    "    for frame in data[video]['keypoints']:\n",
    "        if np.array(frame['keypoints_scores']).size > 0:\n",
    "            all_scores.extend(np.array(frame['keypoints_scores']).flatten())\n",
    "    if all_scores:  # Check if all_scores is not empty\n",
    "        print(f\"Average keypoints_scores for video {video}: {np.mean(all_scores)}\")\n",
    "    else:\n",
    "        print(f\"No keypoints_scores present for video {video}\")"
   ]
  },
  {
   "cell_type": "code",
   "execution_count": null,
   "metadata": {},
   "outputs": [],
   "source": [
    "# Assuming 'data' is a dictionary where the keys are video names\n",
    "all_videos = set(data.keys())\n",
    "\n",
    "# Convert videos_with_three_consecutive_empty_frames to a set for faster lookup\n",
    "videos_with_three_consecutive_empty_frames_set = set(videos_with_three_consecutive_empty_frames)\n",
    "\n",
    "# Find the difference between the two sets to get the videos that do not fall into videos_with_three_consecutive_empty_frames\n",
    "videos_not_in_list = list(all_videos - videos_with_three_consecutive_empty_frames_set)\n",
    "\n",
    "print(videos_not_in_list)"
   ]
  },
  {
   "cell_type": "code",
   "execution_count": null,
   "metadata": {},
   "outputs": [],
   "source": [
    "test_vid = data[\"/tank/tgn252/metadata_annotations/result/R_S_yt-ZtS7ZrJ_rtk_525.mp4\"][\"keypoints\"]\n",
    "for frame in test_vid:\n",
    "    print(frame['keypoints_scores']) if frame['scores'].size > 5 else None"
   ]
  },
  {
   "cell_type": "code",
   "execution_count": null,
   "metadata": {},
   "outputs": [],
   "source": [
    "print(len(videos_not_in_list))\n",
    "for video in videos_not_in_list:\n",
    "    all_scores = []\n",
    "    for frame in data[video]['keypoints']:\n",
    "        all_scores.extend(frame['keypoints_scores'])\n",
    "    print(f\"Average keypoints_scores for video {video}: {np.mean(all_scores)}\")"
   ]
  },
  {
   "cell_type": "code",
   "execution_count": null,
   "metadata": {},
   "outputs": [],
   "source": [
    "for video in videos_with_three_consecutive_empty_frames:\n",
    "    all_scores = []\n",
    "    for frame in data[video]['keypoints']:\n",
    "        if np.array(frame['keypoints_scores']).size > 0:\n",
    "            all_scores.extend(np.array(frame['keypoints_scores']).flatten())\n",
    "        else:\n",
    "            all_scores.append(-2)\n",
    "    print(f\"Average keypoints_scores for video {video}: {np.mean(all_scores)}\")"
   ]
  },
  {
   "cell_type": "code",
   "execution_count": null,
   "metadata": {},
   "outputs": [],
   "source": [
    "# Assuming keypoints_map is a list of keypoint names\n",
    "keypoints_map = ['nose', 'leftEye', 'rightEye', 'leftEar', 'rightEar', 'leftShoulder', 'rightShoulder', 'leftElbow', 'rightElbow', 'leftWrist', 'rightWrist', 'leftHip', 'rightHip', 'leftKnee', 'rightKnee', 'leftAnkle', 'rightAnkle']\n",
    "\n",
    "positive_scores = {}\n",
    "\n",
    "for frame_number, frame in enumerate(single_sample_low_keypoints):\n",
    "    # Get the indices of keypoints_scores that are higher than 0\n",
    "    person_indices, keypoint_indices = np.where(frame['keypoints_scores'] > 1)\n",
    "    # Map the keypoint indices to keypoint names and find the highest score for each keypoint\n",
    "    positive_keypoints = {}\n",
    "    for index in set(keypoint_indices):\n",
    "        keypoint_name = keypoints_map[index]\n",
    "        # Find the highest score for this keypoint\n",
    "        highest_score = np.max(frame['keypoints_scores'][person_indices[keypoint_indices == index], index])\n",
    "        positive_keypoints[keypoint_name] = highest_score\n",
    "    positive_scores[frame_number] = positive_keypoints\n",
    "\n",
    "print(positive_scores)"
   ]
  }
 ],
 "metadata": {
  "kernelspec": {
   "display_name": "metadata_stats",
   "language": "python",
   "name": "python3"
  },
  "language_info": {
   "codemirror_mode": {
    "name": "ipython",
    "version": 3
   },
   "file_extension": ".py",
   "mimetype": "text/x-python",
   "name": "python",
   "nbconvert_exporter": "python",
   "pygments_lexer": "ipython3",
   "version": "3.9.18"
  }
 },
 "nbformat": 4,
 "nbformat_minor": 2
}
